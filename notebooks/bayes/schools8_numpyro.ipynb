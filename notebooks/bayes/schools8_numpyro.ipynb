{
  "nbformat": 4,
  "nbformat_minor": 0,
  "metadata": {
    "colab": {
      "name": "schools8_numpyro.ipynb",
      "provenance": [],
      "authorship_tag": "ABX9TyPvUnQAaJISDduoPiClA4lg",
      "include_colab_link": true
    },
    "kernelspec": {
      "name": "python3",
      "display_name": "Python 3"
    }
  },
  "cells": [
    {
      "cell_type": "markdown",
      "metadata": {
        "id": "view-in-github",
        "colab_type": "text"
      },
      "source": [
        "<a href=\"https://colab.research.google.com/github/probml/pyprobml/blob/master/notebooks/bayes/schools8_numpyro.ipynb\" target=\"_parent\"><img src=\"https://colab.research.google.com/assets/colab-badge.svg\" alt=\"Open In Colab\"/></a>"
      ]
    },
    {
      "cell_type": "code",
      "metadata": {
        "id": "nkbT5bYD_glQ",
        "colab_type": "code",
        "colab": {}
      },
      "source": [
        "# PyMc3 version\n",
        "# https://github.com/probml/pyprobml/blob/master/notebooks/bayes/schools8_pymc3.ipynb\n"
      ],
      "execution_count": 0,
      "outputs": []
    },
    {
      "cell_type": "code",
      "metadata": {
        "id": "7ILiEXuv_5af",
        "colab_type": "code",
        "colab": {}
      },
      "source": [
        "\n",
        "%matplotlib inline\n",
        "import sklearn\n",
        "import scipy.stats as stats\n",
        "import scipy.optimize\n",
        "import matplotlib.pyplot as plt\n",
        "import seaborn as sns\n",
        "import time\n",
        "import numpy as np\n",
        "import os\n",
        "import pandas as pd"
      ],
      "execution_count": 0,
      "outputs": []
    },
    {
      "cell_type": "code",
      "metadata": {
        "id": "n2VcHBcg_0s0",
        "colab_type": "code",
        "colab": {}
      },
      "source": [
        "!pip install numpyro\n",
        "\n",
        "#!pip install pymc3==3.8\n",
        "#import pymc3 as pm\n",
        "#pm.__version__\n",
        "#import theano.tensor as tt\n",
        "#import theano\n",
        "\n",
        "!pip install arviz\n",
        "import arviz as az\n"
      ],
      "execution_count": 0,
      "outputs": []
    }
  ]
}