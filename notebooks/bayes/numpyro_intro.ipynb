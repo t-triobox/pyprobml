{
  "nbformat": 4,
  "nbformat_minor": 0,
  "metadata": {
    "colab": {
      "name": "numpyro_intro.ipynb",
      "provenance": [],
      "toc_visible": true,
      "authorship_tag": "ABX9TyOGQl2ewumnpwYFgCjX9j2k",
      "include_colab_link": true
    },
    "kernelspec": {
      "name": "python3",
      "display_name": "Python 3"
    },
    "accelerator": "GPU"
  },
  "cells": [
    {
      "cell_type": "markdown",
      "metadata": {
        "id": "view-in-github",
        "colab_type": "text"
      },
      "source": [
        "<a href=\"https://colab.research.google.com/github/probml/pyprobml/blob/master/notebooks/bayes/numpyro_intro.ipynb\" target=\"_parent\"><img src=\"https://colab.research.google.com/assets/colab-badge.svg\" alt=\"Open In Colab\"/></a>"
      ]
    },
    {
      "cell_type": "code",
      "metadata": {
        "id": "eDHFLAGT4ryy",
        "colab_type": "code",
        "colab": {}
      },
      "source": [
        "# This notebook illustrates how to use numpyro\n",
        "# https://github.com/pyro-ppl/numpyro\n",
        "\n",
        "# Speed comparison with TFP\n",
        "# https://rlouf.github.io/post/jax-random-walk-metropolis/\n",
        "# Speed comparison with pymc3\n",
        "# https://www.kaggle.com/s903124/numpyro-speed-benchmark\n",
        "\n",
        "\n"
      ],
      "execution_count": 0,
      "outputs": []
    },
    {
      "cell_type": "markdown",
      "metadata": {
        "id": "1FfhOPQUHEdS",
        "colab_type": "text"
      },
      "source": [
        "# Installation"
      ]
    },
    {
      "cell_type": "code",
      "metadata": {
        "id": "Z5wEIBws1D6i",
        "colab_type": "code",
        "colab": {
          "base_uri": "https://localhost:8080/",
          "height": 72
        },
        "outputId": "28570d31-c9de-41b5-856b-345806d0de21"
      },
      "source": [
        "# Standard Python libraries\n",
        "from __future__ import absolute_import, division, print_function, unicode_literals\n",
        "\n",
        "import os\n",
        "import time\n",
        "#import numpy as np\n",
        "#np.set_printoptions(precision=3)\n",
        "import glob\n",
        "import matplotlib.pyplot as plt\n",
        "import PIL\n",
        "import imageio\n",
        "\n",
        "from IPython import display\n",
        "%matplotlib inline\n",
        "\n",
        "import sklearn\n",
        "\n",
        "import seaborn as sns;\n",
        "sns.set(style=\"ticks\", color_codes=True)\n",
        "\n",
        "import pandas as pd\n",
        "pd.set_option('precision', 2) # 2 decimal places\n",
        "pd.set_option('display.max_rows', 20)\n",
        "pd.set_option('display.max_columns', 30)\n",
        "pd.set_option('display.width', 100) # wide windows"
      ],
      "execution_count": 5,
      "outputs": [
        {
          "output_type": "stream",
          "text": [
            "/usr/local/lib/python3.6/dist-packages/statsmodels/tools/_testing.py:19: FutureWarning: pandas.util.testing is deprecated. Use the functions in the public API at pandas.testing instead.\n",
            "  import pandas.util.testing as tm\n"
          ],
          "name": "stderr"
        }
      ]
    },
    {
      "cell_type": "code",
      "metadata": {
        "id": "g0HEaUkwsS5c",
        "colab_type": "code",
        "colab": {
          "base_uri": "https://localhost:8080/",
          "height": 34
        },
        "outputId": "e751c0a6-e8b2-46b4-b78c-82b4784860f4"
      },
      "source": [
        "# As of 5/25/20, colab has jax=0.1.67 and jaxlib=0.1.47 builtin\n",
        "\n",
        "import jax\n",
        "import jax.numpy as np\n",
        "import numpy as onp # original numpy\n",
        "from jax import grad, hessian, jit, vmap, random\n",
        "\n",
        "print(\"jax version {}\".format(jax.__version__))"
      ],
      "execution_count": 1,
      "outputs": [
        {
          "output_type": "stream",
          "text": [
            "jax version 0.1.67\n"
          ],
          "name": "stdout"
        }
      ]
    },
    {
      "cell_type": "code",
      "metadata": {
        "id": "DAASJiGRl1An",
        "colab_type": "code",
        "colab": {
          "base_uri": "https://localhost:8080/",
          "height": 336
        },
        "outputId": "bcb40055-8d12-4b5e-9d0d-c661ea27b87e"
      },
      "source": [
        "# Check if GPU is available\n",
        "!nvidia-smi\n",
        "\n",
        "# Check if JAX is using GPU\n",
        "\n",
        "print(\"jax backend {}\".format(jax.lib.xla_bridge.get_backend().platform))"
      ],
      "execution_count": 2,
      "outputs": [
        {
          "output_type": "stream",
          "text": [
            "Mon May 25 21:46:40 2020       \n",
            "+-----------------------------------------------------------------------------+\n",
            "| NVIDIA-SMI 440.82       Driver Version: 418.67       CUDA Version: 10.1     |\n",
            "|-------------------------------+----------------------+----------------------+\n",
            "| GPU  Name        Persistence-M| Bus-Id        Disp.A | Volatile Uncorr. ECC |\n",
            "| Fan  Temp  Perf  Pwr:Usage/Cap|         Memory-Usage | GPU-Util  Compute M. |\n",
            "|===============================+======================+======================|\n",
            "|   0  Tesla P100-PCIE...  Off  | 00000000:00:04.0 Off |                    0 |\n",
            "| N/A   41C    P0    27W / 250W |      0MiB / 16280MiB |      0%      Default |\n",
            "+-------------------------------+----------------------+----------------------+\n",
            "                                                                               \n",
            "+-----------------------------------------------------------------------------+\n",
            "| Processes:                                                       GPU Memory |\n",
            "|  GPU       PID   Type   Process name                             Usage      |\n",
            "|=============================================================================|\n",
            "|  No running processes found                                                 |\n",
            "+-----------------------------------------------------------------------------+\n",
            "jax backend gpu\n"
          ],
          "name": "stdout"
        }
      ]
    },
    {
      "cell_type": "code",
      "metadata": {
        "id": "aZhiXZN2uGhL",
        "colab_type": "code",
        "colab": {
          "base_uri": "https://localhost:8080/",
          "height": 782
        },
        "outputId": "62e9f646-a92f-4773-ab8d-fe115eb8475f"
      },
      "source": [
        "\n",
        "#https://github.com/pyro-ppl/numpyro/issues/531\n",
        "\n",
        "# https://github.com/pyro-ppl/numpyro\n",
        "!pip install numpyro # requires jax=0.1.57, jaxlib=0.1.37\n",
        "\n",
        "print(\"jax version {}\".format(jax.__version__))\n",
        "print(\"jax backend {}\".format(jax.lib.xla_bridge.get_backend().platform))\n"
      ],
      "execution_count": 3,
      "outputs": [
        {
          "output_type": "stream",
          "text": [
            "Collecting numpyro\n",
            "\u001b[?25l  Downloading https://files.pythonhosted.org/packages/b8/58/54e914bb6d8ee9196f8dbf28b81057fea81871fc171dbee03b790336d0c5/numpyro-0.2.4-py3-none-any.whl (159kB)\n",
            "\u001b[K     |████████████████████████████████| 163kB 6.4MB/s \n",
            "\u001b[?25hCollecting jaxlib==0.1.37\n",
            "\u001b[?25l  Downloading https://files.pythonhosted.org/packages/24/bf/e181454464b866f30f09b5d74d1dd08e8b15e032716d8bcc531c659776ab/jaxlib-0.1.37-cp36-none-manylinux2010_x86_64.whl (25.4MB)\n",
            "\u001b[K     |████████████████████████████████| 25.4MB 4.8MB/s \n",
            "\u001b[?25hCollecting jax==0.1.57\n",
            "\u001b[?25l  Downloading https://files.pythonhosted.org/packages/ae/f2/ea981ed2659f70a1d8286ce41b5e74f1d9df844c1c6be6696144ed3f2932/jax-0.1.57.tar.gz (255kB)\n",
            "\u001b[K     |████████████████████████████████| 256kB 42.9MB/s \n",
            "\u001b[?25hRequirement already satisfied: tqdm in /usr/local/lib/python3.6/dist-packages (from numpyro) (4.41.1)\n",
            "Requirement already satisfied: scipy in /usr/local/lib/python3.6/dist-packages (from jaxlib==0.1.37->numpyro) (1.4.1)\n",
            "Requirement already satisfied: numpy>=1.12 in /usr/local/lib/python3.6/dist-packages (from jaxlib==0.1.37->numpyro) (1.18.4)\n",
            "Requirement already satisfied: six in /usr/local/lib/python3.6/dist-packages (from jaxlib==0.1.37->numpyro) (1.12.0)\n",
            "Requirement already satisfied: protobuf>=3.6.0 in /usr/local/lib/python3.6/dist-packages (from jaxlib==0.1.37->numpyro) (3.10.0)\n",
            "Requirement already satisfied: absl-py in /usr/local/lib/python3.6/dist-packages (from jaxlib==0.1.37->numpyro) (0.9.0)\n",
            "Requirement already satisfied: opt_einsum in /usr/local/lib/python3.6/dist-packages (from jax==0.1.57->numpyro) (3.2.1)\n",
            "Collecting fastcache\n",
            "  Downloading https://files.pythonhosted.org/packages/5f/a3/b280cba4b4abfe5f5bdc643e6c9d81bf3b9dc2148a11e5df06b6ba85a560/fastcache-1.1.0.tar.gz\n",
            "Requirement already satisfied: setuptools in /usr/local/lib/python3.6/dist-packages (from protobuf>=3.6.0->jaxlib==0.1.37->numpyro) (46.3.0)\n",
            "Building wheels for collected packages: jax, fastcache\n",
            "  Building wheel for jax (setup.py) ... \u001b[?25l\u001b[?25hdone\n",
            "  Created wheel for jax: filename=jax-0.1.57-cp36-none-any.whl size=297709 sha256=c2bea348ae9097f522298dfd173b13b80d87b6b3a8694218cc7f41561b5baef6\n",
            "  Stored in directory: /root/.cache/pip/wheels/8a/b4/75/859bcdaf181569124306615bd9b68c747725c60bfa68826378\n",
            "  Building wheel for fastcache (setup.py) ... \u001b[?25l\u001b[?25hdone\n",
            "  Created wheel for fastcache: filename=fastcache-1.1.0-cp36-cp36m-linux_x86_64.whl size=39211 sha256=8ccffe72cb0f057afa1a0020eba9ee41bfde1c83b251e4a4f8c5051f751b9233\n",
            "  Stored in directory: /root/.cache/pip/wheels/6a/80/bf/30024738b03fa5aa521e2a2ac952a8d77d0c65e68d92bcd3b6\n",
            "Successfully built jax fastcache\n",
            "Installing collected packages: jaxlib, fastcache, jax, numpyro\n",
            "  Found existing installation: jaxlib 0.1.47\n",
            "    Uninstalling jaxlib-0.1.47:\n",
            "      Successfully uninstalled jaxlib-0.1.47\n",
            "  Found existing installation: jax 0.1.67\n",
            "    Uninstalling jax-0.1.67:\n",
            "      Successfully uninstalled jax-0.1.67\n",
            "Successfully installed fastcache-1.1.0 jax-0.1.57 jaxlib-0.1.37 numpyro-0.2.4\n"
          ],
          "name": "stdout"
        },
        {
          "output_type": "display_data",
          "data": {
            "application/vnd.colab-display-data+json": {
              "pip_warning": {
                "packages": [
                  "jax",
                  "jaxlib"
                ]
              }
            }
          },
          "metadata": {
            "tags": []
          }
        },
        {
          "output_type": "stream",
          "text": [
            "jax version 0.1.67\n",
            "jax backend gpu\n"
          ],
          "name": "stdout"
        }
      ]
    },
    {
      "cell_type": "code",
      "metadata": {
        "id": "ra3MfYBTv0bF",
        "colab_type": "code",
        "colab": {
          "base_uri": "https://localhost:8080/",
          "height": 1000
        },
        "outputId": "3809aaef-7a41-43d4-ea65-60f30c4fc14a"
      },
      "source": [
        "'''\n",
        "#https://github.com/pyro-ppl/numpyro/issues/531\n",
        "\n",
        "#!pip install --upgrade jax==0.1.57  \n",
        "#!pip install --upgrade jaxlib==0.1.37  \n",
        "\n",
        "#!pip install --upgrade -q https://storage.googleapis.com/jax-releases/cuda$(echo $CUDA_VERSION | sed -e 's/\\.//' -e 's/\\..*//')/jaxlib-$(pip search jaxlib | grep -oP '[0-9\\.]+' | head -n 1)-cp36-none-linux_x86_64.whl\n",
        "#!pip install --upgrade -q jax\n",
        "\n",
        "ver = !echo $CUDA_VERSION\n",
        "print(ver)\n",
        "\n",
        "# install jaxlib\n",
        "PYTHON_VERSION='cp36'  # alternatives: cp36, cp37, cp38\n",
        "CUDA_VERSION='cuda101'  # alternatives: cuda92, cuda100, cuda101, cuda102\n",
        "PLATFORM='linux_x86_64'  # alternatives: linux_x86_64\n",
        "BASE_URL='https://storage.googleapis.com/jax-releases'\n",
        "fname = f'{BASE_URL}/{CUDA_VERSION}/jaxlib-0.1.37-{PYTHON_VERSION}-none-{PLATFORM}.whl'\n",
        "print(fname)\n",
        "#!pip install --upgrade $BASE_URL/$CUDA_VERSION/jaxlib-0.1.37-$PYTHON_VERSION-none-$PLATFORM.whl\n",
        "!pip install --upgrade $fname\n",
        "\n",
        "!pip install numpyro\n",
        "!pip install --upgrade jax==0.1.57  \n",
        "print(\"jax backend {}\".format(jax.lib.xla_bridge.get_backend().platform))\n",
        "'''\n"
      ],
      "execution_count": 19,
      "outputs": [
        {
          "output_type": "stream",
          "text": [
            "['cuda101']\n",
            "https://storage.googleapis.com/jax-releases/cuda101/jaxlib-0.1.37-cp36-none-linux_x86_64.whl\n",
            "Collecting jaxlib==0.1.37\n",
            "\u001b[?25l  Downloading https://storage.googleapis.com/jax-releases/cuda101/jaxlib-0.1.37-cp36-none-linux_x86_64.whl (48.3MB)\n",
            "\u001b[K     |████████████████████████████████| 48.3MB 66kB/s \n",
            "\u001b[?25hRequirement already satisfied, skipping upgrade: scipy in /usr/local/lib/python3.6/dist-packages (from jaxlib==0.1.37) (1.4.1)\n",
            "Requirement already satisfied, skipping upgrade: six in /usr/local/lib/python3.6/dist-packages (from jaxlib==0.1.37) (1.12.0)\n",
            "Requirement already satisfied, skipping upgrade: numpy>=1.12 in /usr/local/lib/python3.6/dist-packages (from jaxlib==0.1.37) (1.18.4)\n",
            "Requirement already satisfied, skipping upgrade: absl-py in /usr/local/lib/python3.6/dist-packages (from jaxlib==0.1.37) (0.9.0)\n",
            "Requirement already satisfied, skipping upgrade: protobuf>=3.6.0 in /usr/local/lib/python3.6/dist-packages (from jaxlib==0.1.37) (3.10.0)\n",
            "Requirement already satisfied, skipping upgrade: setuptools in /usr/local/lib/python3.6/dist-packages (from protobuf>=3.6.0->jaxlib==0.1.37) (46.3.0)\n",
            "\u001b[31mERROR: numpyro 0.2.4 has requirement jax>=0.1.65, but you'll have jax 0.1.57 which is incompatible.\u001b[0m\n",
            "\u001b[31mERROR: numpyro 0.2.4 has requirement jaxlib>=0.1.45, but you'll have jaxlib 0.1.37 which is incompatible.\u001b[0m\n",
            "Installing collected packages: jaxlib\n",
            "  Found existing installation: jaxlib 0.1.47\n",
            "    Uninstalling jaxlib-0.1.47:\n",
            "      Successfully uninstalled jaxlib-0.1.47\n",
            "Successfully installed jaxlib-0.1.37\n"
          ],
          "name": "stdout"
        },
        {
          "output_type": "display_data",
          "data": {
            "application/vnd.colab-display-data+json": {
              "pip_warning": {
                "packages": [
                  "jaxlib"
                ]
              }
            }
          },
          "metadata": {
            "tags": []
          }
        },
        {
          "output_type": "stream",
          "text": [
            "Requirement already satisfied: numpyro in ./numpyro (0.2.4)\n",
            "Processing /root/.cache/pip/wheels/3d/8d/d8/b0463ab20eb85b4ae7c602f7fbc0bd890f2af483b61e6d6096/jax-0.1.68-cp36-none-any.whl\n",
            "Collecting jaxlib>=0.1.45\n",
            "  Using cached https://files.pythonhosted.org/packages/ea/c0/64c0e5a2c6da1d3ffdec95da74abf14df2c7508776ff5f155461fec1ef1d/jaxlib-0.1.47-cp36-none-manylinux2010_x86_64.whl\n",
            "Requirement already satisfied: tqdm in /usr/local/lib/python3.6/dist-packages (from numpyro) (4.41.1)\n",
            "Requirement already satisfied: numpy>=1.12 in /usr/local/lib/python3.6/dist-packages (from jax>=0.1.65->numpyro) (1.18.4)\n",
            "Requirement already satisfied: opt-einsum in /usr/local/lib/python3.6/dist-packages (from jax>=0.1.65->numpyro) (3.2.1)\n",
            "Requirement already satisfied: absl-py in /usr/local/lib/python3.6/dist-packages (from jax>=0.1.65->numpyro) (0.9.0)\n",
            "Requirement already satisfied: scipy in /usr/local/lib/python3.6/dist-packages (from jaxlib>=0.1.45->numpyro) (1.4.1)\n",
            "Requirement already satisfied: six in /usr/local/lib/python3.6/dist-packages (from absl-py->jax>=0.1.65->numpyro) (1.12.0)\n",
            "Installing collected packages: jax, jaxlib\n",
            "  Found existing installation: jax 0.1.57\n",
            "    Uninstalling jax-0.1.57:\n",
            "      Successfully uninstalled jax-0.1.57\n",
            "  Found existing installation: jaxlib 0.1.37\n",
            "    Uninstalling jaxlib-0.1.37:\n",
            "      Successfully uninstalled jaxlib-0.1.37\n",
            "Successfully installed jax-0.1.68 jaxlib-0.1.47\n"
          ],
          "name": "stdout"
        },
        {
          "output_type": "display_data",
          "data": {
            "application/vnd.colab-display-data+json": {
              "pip_warning": {
                "packages": [
                  "jax",
                  "jaxlib"
                ]
              }
            }
          },
          "metadata": {
            "tags": []
          }
        },
        {
          "output_type": "stream",
          "text": [
            "Processing /root/.cache/pip/wheels/8a/b4/75/859bcdaf181569124306615bd9b68c747725c60bfa68826378/jax-0.1.57-cp36-none-any.whl\n",
            "Requirement already satisfied, skipping upgrade: fastcache in /usr/local/lib/python3.6/dist-packages (from jax==0.1.57) (1.1.0)\n",
            "Requirement already satisfied, skipping upgrade: numpy>=1.12 in /usr/local/lib/python3.6/dist-packages (from jax==0.1.57) (1.18.4)\n",
            "Requirement already satisfied, skipping upgrade: absl-py in /usr/local/lib/python3.6/dist-packages (from jax==0.1.57) (0.9.0)\n",
            "Requirement already satisfied, skipping upgrade: opt-einsum in /usr/local/lib/python3.6/dist-packages (from jax==0.1.57) (3.2.1)\n",
            "Requirement already satisfied, skipping upgrade: six in /usr/local/lib/python3.6/dist-packages (from absl-py->jax==0.1.57) (1.12.0)\n",
            "\u001b[31mERROR: numpyro 0.2.4 has requirement jax>=0.1.65, but you'll have jax 0.1.57 which is incompatible.\u001b[0m\n",
            "Installing collected packages: jax\n",
            "  Found existing installation: jax 0.1.68\n",
            "    Uninstalling jax-0.1.68:\n",
            "      Successfully uninstalled jax-0.1.68\n",
            "Successfully installed jax-0.1.57\n"
          ],
          "name": "stdout"
        },
        {
          "output_type": "display_data",
          "data": {
            "application/vnd.colab-display-data+json": {
              "pip_warning": {
                "packages": [
                  "jax"
                ]
              }
            }
          },
          "metadata": {
            "tags": []
          }
        },
        {
          "output_type": "stream",
          "text": [
            "jax backend cpu\n"
          ],
          "name": "stdout"
        }
      ]
    },
    {
      "cell_type": "code",
      "metadata": {
        "id": "hLTptB0NlAiE",
        "colab_type": "code",
        "colab": {
          "base_uri": "https://localhost:8080/",
          "height": 532
        },
        "outputId": "237084c8-ab14-494d-88ac-a9e60fe633fa"
      },
      "source": [
        "'''\n",
        "\n",
        "# The latest version uses jax >= 0.1.65, jaxlib >= 0.1.45\n",
        "# https://github.com/pyro-ppl/numpyro/blob/master/setup.py\n",
        "\n",
        "#https://medium.com/@ashwindesilva/how-to-use-google-colaboratory-to-clone-a-github-repository-e07cf8d3d22b\n",
        "\n",
        "!git clone https://github.com/pyro-ppl/numpyro.git \n",
        "%cd numpyro\n",
        "!pip install -e .[dev]\n",
        "\n",
        "print(\"jax version {}\".format(jax.__version__))\n",
        "print(\"jax backend {}\".format(jax.lib.xla_bridge.get_backend().platform))\n",
        "'''\n"
      ],
      "execution_count": 1,
      "outputs": [
        {
          "output_type": "stream",
          "text": [
            "fatal: destination path 'numpyro' already exists and is not an empty directory.\n",
            "/content/numpyro\n",
            "Obtaining file:///content/numpyro\n",
            "Requirement already satisfied: jax>=0.1.65 in /usr/local/lib/python3.6/dist-packages (from numpyro==0.2.4) (0.1.68)\n",
            "Requirement already satisfied: jaxlib>=0.1.45 in /usr/local/lib/python3.6/dist-packages (from numpyro==0.2.4) (0.1.47)\n",
            "Requirement already satisfied: tqdm in /usr/local/lib/python3.6/dist-packages (from numpyro==0.2.4) (4.41.1)\n",
            "Requirement already satisfied: ipython in /usr/local/lib/python3.6/dist-packages (from numpyro==0.2.4) (5.5.0)\n",
            "Requirement already satisfied: isort in /usr/local/lib/python3.6/dist-packages (from numpyro==0.2.4) (4.3.21)\n",
            "Requirement already satisfied: absl-py in /usr/local/lib/python3.6/dist-packages (from jax>=0.1.65->numpyro==0.2.4) (0.9.0)\n",
            "Requirement already satisfied: opt-einsum in /usr/local/lib/python3.6/dist-packages (from jax>=0.1.65->numpyro==0.2.4) (3.2.1)\n",
            "Requirement already satisfied: numpy>=1.12 in /usr/local/lib/python3.6/dist-packages (from jax>=0.1.65->numpyro==0.2.4) (1.18.4)\n",
            "Requirement already satisfied: scipy in /usr/local/lib/python3.6/dist-packages (from jaxlib>=0.1.45->numpyro==0.2.4) (1.4.1)\n",
            "Requirement already satisfied: pickleshare in /usr/local/lib/python3.6/dist-packages (from ipython->numpyro==0.2.4) (0.7.5)\n",
            "Requirement already satisfied: simplegeneric>0.8 in /usr/local/lib/python3.6/dist-packages (from ipython->numpyro==0.2.4) (0.8.1)\n",
            "Requirement already satisfied: traitlets>=4.2 in /usr/local/lib/python3.6/dist-packages (from ipython->numpyro==0.2.4) (4.3.3)\n",
            "Requirement already satisfied: prompt-toolkit<2.0.0,>=1.0.4 in /usr/local/lib/python3.6/dist-packages (from ipython->numpyro==0.2.4) (1.0.18)\n",
            "Requirement already satisfied: decorator in /usr/local/lib/python3.6/dist-packages (from ipython->numpyro==0.2.4) (4.4.2)\n",
            "Requirement already satisfied: pygments in /usr/local/lib/python3.6/dist-packages (from ipython->numpyro==0.2.4) (2.1.3)\n",
            "Requirement already satisfied: pexpect; sys_platform != \"win32\" in /usr/local/lib/python3.6/dist-packages (from ipython->numpyro==0.2.4) (4.8.0)\n",
            "Requirement already satisfied: setuptools>=18.5 in /usr/local/lib/python3.6/dist-packages (from ipython->numpyro==0.2.4) (46.3.0)\n",
            "Requirement already satisfied: six in /usr/local/lib/python3.6/dist-packages (from absl-py->jax>=0.1.65->numpyro==0.2.4) (1.12.0)\n",
            "Requirement already satisfied: ipython-genutils in /usr/local/lib/python3.6/dist-packages (from traitlets>=4.2->ipython->numpyro==0.2.4) (0.2.0)\n",
            "Requirement already satisfied: wcwidth in /usr/local/lib/python3.6/dist-packages (from prompt-toolkit<2.0.0,>=1.0.4->ipython->numpyro==0.2.4) (0.1.9)\n",
            "Requirement already satisfied: ptyprocess>=0.5 in /usr/local/lib/python3.6/dist-packages (from pexpect; sys_platform != \"win32\"->ipython->numpyro==0.2.4) (0.6.0)\n",
            "Installing collected packages: numpyro\n",
            "  Found existing installation: numpyro 0.2.4\n",
            "    Can't uninstall 'numpyro'. No files were found to uninstall.\n",
            "  Running setup.py develop for numpyro\n",
            "Successfully installed numpyro\n"
          ],
          "name": "stdout"
        }
      ]
    },
    {
      "cell_type": "markdown",
      "metadata": {
        "id": "V_j08oUgHMC8",
        "colab_type": "text"
      },
      "source": [
        "# Distributions"
      ]
    },
    {
      "cell_type": "code",
      "metadata": {
        "id": "lfOH0V2Knz_p",
        "colab_type": "code",
        "colab": {}
      },
      "source": [
        "import numpyro\n",
        "import numpyro.distributions as dist\n",
        "from numpyro.diagnostics import hpdi\n",
        "from numpyro.distributions.transforms import AffineTransform\n",
        "from numpyro.infer import MCMC, NUTS, Predictive\n",
        "\n",
        "rng_key = random.PRNGKey(0)\n",
        "rng_key, rng_key_ = random.split(rng_key)"
      ],
      "execution_count": 0,
      "outputs": []
    },
    {
      "cell_type": "markdown",
      "metadata": {
        "id": "2cu50EWRHmeL",
        "colab_type": "text"
      },
      "source": [
        "## 1d Gaussian"
      ]
    },
    {
      "cell_type": "code",
      "metadata": {
        "id": "Wv6tBbo-BQBm",
        "colab_type": "code",
        "colab": {
          "base_uri": "https://localhost:8080/",
          "height": 852
        },
        "outputId": "a9fad9a6-6f69-4b02-880a-eb3e01fd30c5"
      },
      "source": [
        "# 2 independent 1d gaussians (ie 1 diagonal Gaussian)\n",
        "mu = 1.5\n",
        "sigma = 2\n",
        "d = dist.Normal(mu, sigma)\n",
        "dir(d)"
      ],
      "execution_count": 87,
      "outputs": [
        {
          "output_type": "execute_result",
          "data": {
            "text/plain": [
              "['__call__',\n",
              " '__class__',\n",
              " '__delattr__',\n",
              " '__dict__',\n",
              " '__dir__',\n",
              " '__doc__',\n",
              " '__eq__',\n",
              " '__format__',\n",
              " '__ge__',\n",
              " '__getattribute__',\n",
              " '__gt__',\n",
              " '__hash__',\n",
              " '__init__',\n",
              " '__init_subclass__',\n",
              " '__le__',\n",
              " '__lt__',\n",
              " '__module__',\n",
              " '__ne__',\n",
              " '__new__',\n",
              " '__reduce__',\n",
              " '__reduce_ex__',\n",
              " '__repr__',\n",
              " '__setattr__',\n",
              " '__sizeof__',\n",
              " '__str__',\n",
              " '__subclasshook__',\n",
              " '__weakref__',\n",
              " '_batch_shape',\n",
              " '_event_shape',\n",
              " '_validate_args',\n",
              " '_validate_sample',\n",
              " 'arg_constraints',\n",
              " 'batch_shape',\n",
              " 'event_shape',\n",
              " 'icdf',\n",
              " 'loc',\n",
              " 'log_prob',\n",
              " 'mean',\n",
              " 'reparametrized_params',\n",
              " 'sample',\n",
              " 'sample_with_intermediates',\n",
              " 'scale',\n",
              " 'set_default_validate_args',\n",
              " 'support',\n",
              " 'to_event',\n",
              " 'transform_with_intermediates',\n",
              " 'variance']"
            ]
          },
          "metadata": {
            "tags": []
          },
          "execution_count": 87
        }
      ]
    },
    {
      "cell_type": "code",
      "metadata": {
        "id": "viQgRPMWFH-7",
        "colab_type": "code",
        "colab": {
          "base_uri": "https://localhost:8080/",
          "height": 70
        },
        "outputId": "9bf926cf-c720-4e68-fae4-6fa312294498"
      },
      "source": [
        "#rng_key, rng_key_ = random.split(rng_key)\n",
        "nsamples = 1000\n",
        "ys = d.sample(rng_key_, (nsamples,))\n",
        "print(ys.shape)\n",
        "mu_hat = np.mean(ys,0)\n",
        "print(mu_hat)\n",
        "sigma_hat = np.std(ys, 0)\n",
        "print(sigma_hat)"
      ],
      "execution_count": 88,
      "outputs": [
        {
          "output_type": "stream",
          "text": [
            "(1000,)\n",
            "1.4788736\n",
            "2.0460527\n"
          ],
          "name": "stdout"
        }
      ]
    },
    {
      "cell_type": "markdown",
      "metadata": {
        "id": "Iir5QxsEHvie",
        "colab_type": "text"
      },
      "source": [
        "## Multivariate Gaussian\n",
        "\n"
      ]
    },
    {
      "cell_type": "code",
      "metadata": {
        "id": "h6MKLVypCGZY",
        "colab_type": "code",
        "colab": {}
      },
      "source": [
        "mu = np.array([-1, 1])\n",
        "sigma = np.array([1, 2])\n",
        "Sigma = np.diag(sigma)\n",
        "d2 = dist.MultivariateNormal(mu, Sigma)"
      ],
      "execution_count": 0,
      "outputs": []
    },
    {
      "cell_type": "code",
      "metadata": {
        "id": "d7JQGBXi_7el",
        "colab_type": "code",
        "colab": {
          "base_uri": "https://localhost:8080/",
          "height": 87
        },
        "outputId": "649db27b-0019-407d-e819-e1a1c8cb57af"
      },
      "source": [
        "#rng_key, rng_key_ = random.split(rng_key)\n",
        "nsamples = 1000\n",
        "ys = d2.sample(rng_key_, (nsamples,))\n",
        "print(ys.shape)\n",
        "mu_hat = np.mean(ys,0)\n",
        "print(mu_hat)\n",
        "Sigma_hat = onp.cov(ys, rowvar=False) #jax.np.cov not implemented\n",
        "print(Sigma_hat)"
      ],
      "execution_count": 94,
      "outputs": [
        {
          "output_type": "stream",
          "text": [
            "(1000, 2)\n",
            "[-0.9644672   0.99415004]\n",
            "[[0.93275181 0.0756547 ]\n",
            " [0.0756547  1.91598212]]\n"
          ],
          "name": "stdout"
        }
      ]
    },
    {
      "cell_type": "markdown",
      "metadata": {
        "id": "UPyDu5DgIT76",
        "colab_type": "text"
      },
      "source": [
        "## Shape semantics\n",
        "\n",
        "Numpyro, [Pyro](https://pyro.ai/examples/tensor_shapes.html) and [TFP](https://www.tensorflow.org/probability/examples/Understanding_TensorFlow_Distributions_Shapes) all distinguish between 'event shape' and 'batch shape'.\n",
        "For a D-dimensional Gaussian, the event shape is (D,), and the batch shape\n",
        "will be (), meaning we have a single instance of this distribution.\n",
        "If the covariance is diagonal, we can view this as D independent\n",
        "1d Gaussians, stored along the batch dimension; this will have event shape () but batch shape (2,). \n",
        "\n",
        "When we sample from a distribution, we also specify the sample_shape.\n",
        "Suppose we draw N samples  from a single D-dim diagonal Gaussian,\n",
        "and N samples from D 1d Gaussians. These samples will have the same shape.\n",
        "However, the semantics of logprob differs.\n",
        "We illustrate this below.\n"
      ]
    },
    {
      "cell_type": "code",
      "metadata": {
        "id": "PUYN9T1GIbBb",
        "colab_type": "code",
        "colab": {
          "base_uri": "https://localhost:8080/",
          "height": 141
        },
        "outputId": "14e0ea4c-3453-4bd3-f7b3-db53f28f2459"
      },
      "source": [
        "d2 = dist.MultivariateNormal(mu, Sigma)\n",
        "print(d2.event_shape)\n",
        "print(d2.batch_shape) \n",
        "nsamples = 1000\n",
        "ys2 = d2.sample(rng_key_, (nsamples,))\n",
        "print(ys2.shape)\n",
        "\n",
        "# 2 independent 1d gaussians (same as one 2d diagonal Gaussian)\n",
        "d3 = dist.Normal(mu, np.diag(Sigma))\n",
        "print(d3.event_shape)\n",
        "print(d3.batch_shape)\n",
        "ys3 = d3.sample(rng_key_, (nsamples,))\n",
        "print(ys3.shape)\n",
        "\n",
        "print(np.allclose(ys2, ys3))"
      ],
      "execution_count": 85,
      "outputs": [
        {
          "output_type": "stream",
          "text": [
            "(2,)\n",
            "()\n",
            "(1000, 2)\n",
            "()\n",
            "(2,)\n",
            "(1000, 2)\n",
            "True\n"
          ],
          "name": "stdout"
        }
      ]
    },
    {
      "cell_type": "code",
      "metadata": {
        "id": "kABLe1ypJob8",
        "colab_type": "code",
        "colab": {
          "base_uri": "https://localhost:8080/",
          "height": 52
        },
        "outputId": "46dbcf1b-93be-4f1c-c904-68b338ea9393"
      },
      "source": [
        "y = ys2[0,:] # 2 numbers\n",
        "print(d2.log_prob(y)) # log prob of a single 2d distribution on 2d input \n",
        "print(d3.log_prob(y)) # log prob of two 1d distributions on 2d input\n"
      ],
      "execution_count": 86,
      "outputs": [
        {
          "output_type": "stream",
          "text": [
            "-2.1086864\n",
            "[-1.1897303 -0.9189563]\n"
          ],
          "name": "stdout"
        }
      ]
    },
    {
      "cell_type": "markdown",
      "metadata": {
        "id": "nsB0vIjYLa_6",
        "colab_type": "text"
      },
      "source": [
        "We can turn a set of independent distributions into a single product\n",
        "distribution using the [Independent class](http://num.pyro.ai/en/stable/distributions.html#independent)\n"
      ]
    },
    {
      "cell_type": "code",
      "metadata": {
        "id": "MXsP_SonLOpl",
        "colab_type": "code",
        "colab": {
          "base_uri": "https://localhost:8080/",
          "height": 70
        },
        "outputId": "a2612a59-bd34-49a6-fd55-d5a83d095cc4"
      },
      "source": [
        "d4 = dist.Independent(d3, 1) # treat the first batch dimension as an event dimensions\n",
        "print(d4.event_shape)\n",
        "print(d4.batch_shape)\n",
        "print(d4.log_prob(y))"
      ],
      "execution_count": 98,
      "outputs": [
        {
          "output_type": "stream",
          "text": [
            "(2,)\n",
            "()\n",
            "-2.1086864\n"
          ],
          "name": "stdout"
        }
      ]
    },
    {
      "cell_type": "markdown",
      "metadata": {
        "id": "JVBjePpKIO0f",
        "colab_type": "text"
      },
      "source": [
        "# Posterior inference with MCMC\n"
      ]
    },
    {
      "cell_type": "markdown",
      "metadata": {
        "id": "CSxk_HEeOOMn",
        "colab_type": "text"
      },
      "source": [
        "## Example: 1d Gaussian with unknown mean.\n",
        "\n",
        "We use the simple example from the [Pyro intro](https://pyro.ai/examples/intro_part_ii.html#A-Simple-Example). The goal is to infer the weight $\\theta$ of an object, given noisy measurements $y$. We assume the following model:\n",
        "$$\n",
        "\\begin{align}\n",
        "\\theta &\\sim N(\\mu=8.5, \\tau^2=1.0)\\\\ \n",
        "y \\sim &N(\\theta, \\sigma^2=0.75^2)\n",
        "\\end{align}\n",
        "$$\n",
        "\n",
        "Where $\\mu=8.5$ is the initial guess. \n",
        "\n",
        "By Bayes rule for Gaussians, we know that the exact posterior,\n",
        "given a single observation $y=9.5$, is given by\n",
        "\n",
        "\n",
        "$$\n",
        "\\begin{align}\n",
        "\\theta|y &\\sim N(m, s^s) \\\\\n",
        "m &=\\frac{\\sigma^2 \\mu + \\tau^2 y}{\\sigma^2 + \\tau^2} \n",
        "  = \\frac{0.75^2 \\times 8.5 + 1 \\times 9.5}{0.75^2 + 1^2}\n",
        "  = 9.14 \\\\\n",
        "s^2 &= \\frac{\\sigma^2 \\tau^2}{\\sigma^2  + \\tau^2} \n",
        "= \\frac{0.75^2 \\times 1^2}{0.75^2 + 1^2}= 0.6^2\n",
        "\\end{align}\n",
        "$$"
      ]
    },
    {
      "cell_type": "code",
      "metadata": {
        "id": "HwHoLkHhaTTe",
        "colab_type": "code",
        "colab": {
          "base_uri": "https://localhost:8080/",
          "height": 52
        },
        "outputId": "7a7c69c7-d469-452a-d14d-b50f77aa7a67"
      },
      "source": [
        "mu = 8.5; tau = 1.0; sigma = 0.75; y = 9.5\n",
        "m = (sigma**2 * mu + tau**2 * y)/(sigma**2 + tau**2)\n",
        "s2 = (sigma**2 * tau**2)/(sigma**2 + tau**2)\n",
        "s = np.sqrt(s2)\n",
        "print(m)\n",
        "print(s)"
      ],
      "execution_count": 108,
      "outputs": [
        {
          "output_type": "stream",
          "text": [
            "9.14\n",
            "0.6\n"
          ],
          "name": "stdout"
        }
      ]
    },
    {
      "cell_type": "code",
      "metadata": {
        "id": "pZasEbTfONnv",
        "colab_type": "code",
        "colab": {
          "base_uri": "https://localhost:8080/",
          "height": 34
        },
        "outputId": "91a42b7c-9414-4f17-d375-fbed657d76d6"
      },
      "source": [
        "\n",
        "\n",
        "def model(guess, measurement=None):\n",
        "    weight = numpyro.sample(\"weight\", dist.Normal(guess, tau))\n",
        "    return numpyro.sample(\"measurement\", dist.Normal(weight, sigma), obs=measurement)\n"
      ],
      "execution_count": 106,
      "outputs": [
        {
          "output_type": "stream",
          "text": [
            "9.14\n"
          ],
          "name": "stdout"
        }
      ]
    },
    {
      "cell_type": "code",
      "metadata": {
        "id": "Te6wYISV0uqZ",
        "colab_type": "code",
        "colab": {
          "base_uri": "https://localhost:8080/",
          "height": 123
        },
        "outputId": "0bebb88d-861e-4330-929f-ad946c1d677c"
      },
      "source": [
        "nuts_kernel = NUTS(model)\n",
        "mcmc = MCMC(nuts_kernel, num_warmup=100, num_samples=1000)\n",
        "guess = mu\n",
        "measurement = y\n",
        "mcmc.run(rng_key_, guess, measurement=measurement)\n",
        "\n",
        "mcmc.print_summary()\n",
        "samples  = mcmc.get_samples()\n",
        " \n"
      ],
      "execution_count": 109,
      "outputs": [
        {
          "output_type": "stream",
          "text": [
            "sample: 100%|██████████| 1100/1100 [00:04<00:00, 229.85it/s, 1 steps of size 8.84e-01. acc. prob=0.96]"
          ],
          "name": "stderr"
        },
        {
          "output_type": "stream",
          "text": [
            "\n",
            "                mean       std    median      5.0%     95.0%     n_eff     r_hat\n",
            "    weight      9.09      0.62      9.11      8.05     10.03    325.40      1.01\n",
            "\n",
            "Number of divergences: 0\n"
          ],
          "name": "stdout"
        },
        {
          "output_type": "stream",
          "text": [
            "\n"
          ],
          "name": "stderr"
        }
      ]
    },
    {
      "cell_type": "code",
      "metadata": {
        "id": "yLIjAF887o_5",
        "colab_type": "code",
        "colab": {}
      },
      "source": [
        ""
      ],
      "execution_count": 0,
      "outputs": []
    }
  ]
}