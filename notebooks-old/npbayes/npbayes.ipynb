{
  "nbformat": 4,
  "nbformat_minor": 0,
  "metadata": {
    "colab": {
      "name": "npbayes.ipynb",
      "provenance": [],
      "authorship_tag": "ABX9TyO9DzQuwtfYLteGkrhfWmLZ",
      "include_colab_link": true
    },
    "kernelspec": {
      "name": "python3",
      "display_name": "Python 3"
    }
  },
  "cells": [
    {
      "cell_type": "markdown",
      "metadata": {
        "id": "view-in-github",
        "colab_type": "text"
      },
      "source": [
        "<a href=\"https://colab.research.google.com/github/probml/pyprobml/blob/master/notebooks/npbayes/npbayes.ipynb\" target=\"_parent\"><img src=\"https://colab.research.google.com/assets/colab-badge.svg\" alt=\"Open In Colab\"/></a>"
      ]
    },
    {
      "cell_type": "code",
      "metadata": {
        "id": "7GUHFofq7U96",
        "colab_type": "code",
        "colab": {}
      },
      "source": [
        ""
      ],
      "execution_count": 0,
      "outputs": []
    },
    {
      "cell_type": "markdown",
      "metadata": {
        "id": "HoIqZtEJ7Zsk",
        "colab_type": "text"
      },
      "source": [
        "# Other Bayesian non-parametric models\n",
        "\n",
        "[Gaussian processes](https://colab.sandbox.google.com/github/probml/pyprobml/blob/master/notebooks/gp/gp.ipynb) are an example of a Bayesian non-parametric model.\n",
        "In this notebook, we consider some other examples."
      ]
    },
    {
      "cell_type": "code",
      "metadata": {
        "id": "BBzX3qLr7i1z",
        "colab_type": "code",
        "colab": {}
      },
      "source": [
        ""
      ],
      "execution_count": 0,
      "outputs": []
    }
  ]
}