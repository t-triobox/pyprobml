{
 "cells": [
  {
   "cell_type": "markdown",
   "metadata": {},
   "source": [
    "# Linear algebra\n",
    "\n",
    "## TOC:\n",
    "* [Basics](#basics)\n",
    "* [Sparse matrices](#sparse)\n",
    "* [Broadcasting](#broadcasting)\n",
    "* [Einstein summation](#einstein)\n",
    "* [Eigenvalue decomposition](#EVD)\n",
    "* [Singular value decomposition](#SVD)\n",
    "* [Other decompositions](#decomp)\n",
    "* [Matrix calculus](#calculus)\n",
    "* [Linear systems of equations](#linear)"
   ]
  },
  {
   "cell_type": "code",
   "execution_count": 1,
   "metadata": {},
   "outputs": [
    {
     "data": {
      "text/plain": [
       "sys.version_info(major=3, minor=7, micro=3, releaselevel='final', serial=0)"
      ]
     },
     "execution_count": 1,
     "metadata": {},
     "output_type": "execute_result"
    }
   ],
   "source": [
    "\n",
    "import sys\n",
    "sys.version_info"
   ]
  },
  {
   "cell_type": "code",
   "execution_count": 2,
   "metadata": {},
   "outputs": [],
   "source": [
    "import jax"
   ]
  },
  {
   "cell_type": "code",
   "execution_count": null,
   "metadata": {
    "scrolled": true
   },
   "outputs": [
    {
     "name": "stdout",
     "output_type": "stream",
     "text": [
      "jax version 0.1.39\n",
      "jax backend gpu\n"
     ]
    }
   ],
   "source": [
    "%matplotlib inline\n",
    "import sklearn\n",
    "import scipy\n",
    "import scipy.optimize\n",
    "import matplotlib.pyplot as plt\n",
    "from mpl_toolkits import mplot3d\n",
    "from mpl_toolkits.mplot3d import Axes3D\n",
    "#import seaborn as sns\n",
    "import warnings\n",
    "warnings.filterwarnings('ignore')\n",
    "import itertools\n",
    "import time\n",
    "from functools import partial\n",
    "\n",
    "import os\n",
    "figdir = \"../figures\" # set this to '' if you don't want to save figures\n",
    "def save_fig(fname):\n",
    "    if figdir:\n",
    "        plt.savefig(os.path.join(figdir, fname))\n",
    "\n",
    "import numpy as onp\n",
    "onp.set_printoptions(precision=3)\n",
    "import jax\n",
    "import jax.numpy as np\n",
    "from jax import grad, hessian, jacfwd, jacrev, jit, vmap\n",
    "from jax.experimental import optimizers\n",
    "print(\"jax version {}\".format(jax.__version__))\n",
    "from jax.lib import xla_bridge\n",
    "print(\"jax backend {}\".format(xla_bridge.get_backend().platform))\n",
    "from jax import random\n",
    "key = random.PRNGKey(0)\n",
    "x = random.normal(key, (5,5))\n",
    "    \n",
    "import torch\n",
    "import torchvision\n",
    "print(\"torch version {}\".format(torch.__version__))\n",
    "if torch.cuda.is_available():\n",
    "    print(torch.cuda.get_device_name(0))\n",
    "    print(\"current device {}\".format(torch.cuda.current_device()))\n",
    "else:\n",
    "    print(\"Torch cannot find GPU\")\n",
    "    \n",
    "import tensorflow as tf\n",
    "from tensorflow import keras\n",
    "print(\"tf version {}\".format(tf.__version__))\n",
    "if tf.test.is_gpu_available():\n",
    "    print(tf.test.gpu_device_name())\n",
    "else:\n",
    "    print(\"TF cannot find GPU\")\n",
    "\n"
   ]
  },
  {
   "cell_type": "markdown",
   "metadata": {},
   "source": [
    "## Basics <a class=\"anchor\" id=\"basics\"></a>"
   ]
  },
  {
   "cell_type": "code",
   "execution_count": 4,
   "metadata": {},
   "outputs": [
    {
     "name": "stdout",
     "output_type": "stream",
     "text": [
      "1\n",
      "(3,)\n"
     ]
    }
   ],
   "source": [
    "# Create 1d vector\n",
    "v = np.array([0,1,2]) # 1d vector\n",
    "print(v.ndim) ## 1\n",
    "print(v.shape) ## (3,)\n"
   ]
  },
  {
   "cell_type": "code",
   "execution_count": null,
   "metadata": {},
   "outputs": [],
   "source": [
    "# Note that Python uses 0-indexing, not 1-indexing.\n",
    "# Thus the elements are accessed as follows:\n",
    "print(v[0], v[1], v[2]) ## 0 1 2"
   ]
  },
  {
   "cell_type": "code",
   "execution_count": 66,
   "metadata": {},
   "outputs": [
    {
     "name": "stdout",
     "output_type": "stream",
     "text": [
      "[[0 1 2]\n",
      " [3 4 5]]\n",
      "2\n",
      "(2, 3)\n",
      "6\n",
      "(3, 2)\n"
     ]
    }
   ],
   "source": [
    "# Create 2d array\n",
    "A = np.array([ [0,1,2], [3,4,5] ]) \n",
    "print(A)\n",
    "## [[0, 1, 2],\n",
    "##  [3, 4, 5]])\n",
    "print(A.ndim) ## 2\n",
    "print(A.shape) ## (2,3)\n",
    "print(A.size) ## 6\n",
    "print(A.T.shape) ## (3,2)"
   ]
  },
  {
   "cell_type": "code",
   "execution_count": 67,
   "metadata": {},
   "outputs": [
    {
     "name": "stdout",
     "output_type": "stream",
     "text": [
      "(1, 2)\n",
      "(2, 1)\n"
     ]
    }
   ],
   "source": [
    "# If we want to make a vector into a matrix with one row, we can use any of the following:\n",
    "\n",
    "x = np.array([1,2]) # vector\n",
    "X1 = np.array([x]) # matrix with one row\n",
    "X2 = np.reshape(x, (1,-1))\n",
    "X3 = x[None, :]\n",
    "X4 = x[np.newaxis, :]\n",
    "assert np.array_equal(X1, X2)\n",
    "assert np.array_equal(X1, X3)\n",
    "print(np.shape(X1)) ## (1,2)\n"
   ]
  },
  {
   "cell_type": "code",
   "execution_count": null,
   "metadata": {},
   "outputs": [],
   "source": [
    "# If we want to make a vector into a matrix with one column, we can use any of the following:\n",
    "x = np.array([1,2]) # vector\n",
    "X1 = np.array([x]).T # matrix with one column\n",
    "X2 = np.reshape(x, (-1,1))\n",
    "X3 = x[:, None]\n",
    "X4 = x[:, np.newaxis]\n",
    "assert np.array_equal(X1, X2)\n",
    "assert np.array_equal(X1, X3)\n",
    "print(np.shape(X1)) ## (2,1)"
   ]
  },
  {
   "cell_type": "code",
   "execution_count": 68,
   "metadata": {},
   "outputs": [
    {
     "name": "stdout",
     "output_type": "stream",
     "text": [
      "[[0. 1. 0.]\n",
      " [0. 0. 1.]\n",
      " [1. 0. 0.]\n",
      " [0. 0. 1.]]\n"
     ]
    }
   ],
   "source": [
    "# Here is how to create a one-hot encoding of integers.\n",
    "\n",
    "def one_hot(x, k, dtype=np.float32):\n",
    "  return np.array(x[:, None] == np.arange(k), dtype)\n",
    "\n",
    "\n",
    "# Example\n",
    "x = np.array([1,2,0,2]);\n",
    "X = one_hot(x, 3)\n",
    "print(X)\n",
    "\n"
   ]
  },
  {
   "cell_type": "code",
   "execution_count": 69,
   "metadata": {},
   "outputs": [],
   "source": [
    "\n",
    "# We can construct arrays from a list of column vectors as follows:\n",
    "A1 = np.array([ [0,1,2], [3,4,5] ]) \n",
    "col0 = A1[:,0]; col1 = A1[:,1]; col2=A1[:,2];\n",
    "A2 = np.stack([col0,col1,col2],axis=1)\n",
    "assert np.array_equal(A1, A2)\n",
    "\n",
    "# We can construct arrays from a list of row vectors as follows:\n",
    "row0=A1[0,:]; row1=A1[1,:];\n",
    "A2 = np.stack([row0,row1],axis=0)\n",
    "assert np.array_equal(A1, A2)"
   ]
  },
  {
   "cell_type": "code",
   "execution_count": 71,
   "metadata": {},
   "outputs": [
    {
     "name": "stdout",
     "output_type": "stream",
     "text": [
      "[[ 9  8  7 99]\n",
      " [ 6  5  4 99]]\n"
     ]
    }
   ],
   "source": [
    "# We can construct arrays from a list of arrays\n",
    "# using the hstack or vstack functions,\n",
    "# which stack horizontally or vertically,  as illustrated below.\n",
    "\n",
    "M = np.array([[9,8,7],[6,5,4]])\n",
    "C = np.array([[99], [99]])\n",
    "A1 = np.concatenate([M, C], axis=1)\n",
    "A2 = np.hstack([M, C])\n",
    "#A3 = np.c_[M, C] # c_ does not work in jax\n",
    "assert np.array_equal(A1, A2)\n",
    "#assert np.array_equal(A1, A3)\n",
    "print(A1)\n",
    "\n"
   ]
  },
  {
   "cell_type": "code",
   "execution_count": 72,
   "metadata": {},
   "outputs": [
    {
     "name": "stdout",
     "output_type": "stream",
     "text": [
      "[[1 2 3]\n",
      " [9 8 7]\n",
      " [6 5 4]]\n"
     ]
    }
   ],
   "source": [
    "\n",
    "R = np.array([[1,2,3]])\n",
    "A1 = np.concatenate([R, M], axis=0)\n",
    "A2 = np.vstack([R, M])\n",
    "assert np.array_equal(A1, A2)\n",
    "print(A1)\n"
   ]
  },
  {
   "cell_type": "code",
   "execution_count": 73,
   "metadata": {},
   "outputs": [
    {
     "name": "stdout",
     "output_type": "stream",
     "text": [
      "[[1. 9. 8. 7.]\n",
      " [1. 6. 5. 4.]]\n"
     ]
    }
   ],
   "source": [
    "# A very common idiom  is to add a column of 1s to a datamatrix.\n",
    "# We can do this using horizontal stacking (along the columns) as follows.\n",
    "\n",
    "X = np.array([[9,8,7],[6,5,4]])\n",
    "N = np.shape(X)[0] # num. rows\n",
    "X1 = np.hstack([np.ones((N,1)), X])\n",
    "print(X1)"
   ]
  },
  {
   "cell_type": "code",
   "execution_count": 74,
   "metadata": {},
   "outputs": [
    {
     "name": "stdout",
     "output_type": "stream",
     "text": [
      "[0 1 2 3 4 5]\n"
     ]
    }
   ],
   "source": [
    "\n",
    "# We can flatten a matrix to a vector (concatenating its rows, one by one) using ravel\n",
    "\n",
    "A = np.reshape(np.arange(6),(2,3))\n",
    "print(A.ravel()) ##  [0 1 2 3 4 5]\n"
   ]
  },
  {
   "cell_type": "markdown",
   "metadata": {},
   "source": [
    "In numpy,  arrays are layed out in memory\n",
    "such that, if we iterate over neighboring elements,\n",
    "the rightmost index changes the fastest.\n",
    "This is called row-major order,\n",
    "and is used by other languages such as C++, Eigen and PyTorch.\n",
    "By contrast, other languages (such as Julia, Matlab, R and Fortran)\n",
    "use column-major order.\n",
    "See below for an illustration of the difference.\n",
    "\n",
    "\n",
    "<table border=\"0\" width=\"400\">\n",
    "    <td><img src=\"figures/rowMajor.png\"  width=\"200\"></td>\n",
    "    <td><img src=\"figures/colMajor.png\"  width=\"200\"></td>\n",
    "</table>\n",
    "\n",
    "\n",
    "(Source: https://commons.wikimedia.org/wiki/File:Row_and_column_major_order.svg)\n",
    "\n",
    "Thus in numpy, for speed reasons, we should always write loops like this:\n",
    "```\n",
    "A = np.reshape(np.arange(6),(2,3))\n",
    "d1, d2 = np.shape(A)\n",
    "for i in range(d1):\n",
    "  for j in range(d2):\n",
    "    # Do something with A[i,j]\n",
    " ```\n",
    "\n",
    "For similar reasons, data matrices are usually stored\n",
    "in the form $(N,D)$, where $N$ is the batchsize (number of examples),\n",
    "so that we can efficiently extract minibatches by slicing blocks of consecutive memory."
   ]
  },
  {
   "cell_type": "code",
   "execution_count": 75,
   "metadata": {},
   "outputs": [
    {
     "name": "stdout",
     "output_type": "stream",
     "text": [
      "(2, 3, 4)\n",
      "[[[ 0  1  2  3]\n",
      "  [ 4  5  6  7]\n",
      "  [ 8  9 10 11]]\n",
      "\n",
      " [[12 13 14 15]\n",
      "  [16 17 18 19]\n",
      "  [20 21 22 23]]]\n"
     ]
    }
   ],
   "source": [
    "## We can create a tensor in numpy as in this example:\n",
    "\n",
    "T = np.ndarray([2,3,4]) # fill with random values\n",
    "T = np.reshape(np.arange(24),(2,3,4)) # fill with 0..23\n",
    "print(np.shape(T))\n",
    "print(T)\n",
    "\n"
   ]
  },
  {
   "cell_type": "code",
   "execution_count": 76,
   "metadata": {},
   "outputs": [
    {
     "name": "stdout",
     "output_type": "stream",
     "text": [
      "(2, 1, 3)\n"
     ]
    }
   ],
   "source": [
    "#We can permute the order of the dimensions using np.transpose.\n",
    "\n",
    "x = np.ones((1, 2, 3))\n",
    "print(np.transpose(x, (1, 0, 2)).shape) ## (2, 1, 3)\n",
    "\n",
    "#Note that this does not actually move the data in memory\n",
    "#(which would be slow),\n",
    "#it merely provides a different \\keywordDef{view} of the same data,\n",
    "#i.e., it changes the mapping from $n$-dimensional vectors of\n",
    "#subscripts to 1d integers."
   ]
  },
  {
   "cell_type": "code",
   "execution_count": 81,
   "metadata": {},
   "outputs": [
    {
     "name": "stdout",
     "output_type": "stream",
     "text": [
      "[[1.298 0.859 1.059 0.369]\n",
      " [1.568 0.942 1.311 0.477]]\n"
     ]
    }
   ],
   "source": [
    "# matrix multiplication \n",
    "\n",
    "A = onp.random.rand(2,3);\n",
    "B = onp.random.rand(3,4);\n",
    "C = np.dot(A,B)\n",
    "assert np.shape(C) == (2,4)\n",
    "print(C)\n",
    "C2 = A.dot(B)\n",
    "C3 = A @ B\n",
    "assert np.allclose(C, C2)\n",
    "assert np.allclose(C, C3)\n",
    "\n",
    "#Note that we need to use np.dot(A,B)\n",
    "#if we use A * B, Python tries to compute the elementwise product,\n",
    "#which is invalid, since $A$ and $B$ have incompatible shapes.\n"
   ]
  },
  {
   "cell_type": "code",
   "execution_count": 82,
   "metadata": {},
   "outputs": [
    {
     "name": "stdout",
     "output_type": "stream",
     "text": [
      "[[1 2]\n",
      " [2 4]]\n"
     ]
    }
   ],
   "source": [
    "# Outer products\n",
    "\n",
    "x = np.arange(1,3); y = np.arange(1,3); \n",
    "A = np.outer(x,y);\n",
    "print(A)\n"
   ]
  },
  {
   "cell_type": "code",
   "execution_count": 83,
   "metadata": {},
   "outputs": [
    {
     "name": "stdout",
     "output_type": "stream",
     "text": [
      "[[3. 5. 7.]]\n"
     ]
    }
   ],
   "source": [
    "# We can sum across the rows\n",
    "\n",
    "X = np.reshape(np.arange(6), (2,3))\n",
    "XS = np.dot(np.ones((1,2)), X)\n",
    "print(XS)\n",
    "XS2 = np.sum(X, axis=0)\n",
    "assert np.allclose(XS, XS2)\n"
   ]
  },
  {
   "cell_type": "code",
   "execution_count": 84,
   "metadata": {},
   "outputs": [
    {
     "name": "stdout",
     "output_type": "stream",
     "text": [
      "[[ 3.]\n",
      " [12.]]\n"
     ]
    }
   ],
   "source": [
    "# We can sum across the columns \n",
    "\n",
    "X = np.reshape(np.arange(6), (2,3))\n",
    "XS = np.dot(X, np.ones((3,1)))\n",
    "print(XS)\n",
    "XS2 = np.sum(X, axis=1).reshape(-1, 1)\n",
    "assert np.allclose(XS, XS2)\n"
   ]
  },
  {
   "cell_type": "code",
   "execution_count": 85,
   "metadata": {},
   "outputs": [],
   "source": [
    "# We can sum across all entries\n",
    "\n",
    "X = np.reshape(np.arange(6), (2,3))\n",
    "S1 = np.dot(np.ones((1,2)), np.dot(X, np.ones((3,1))))[0]\n",
    "S2 = np.sum(X)\n",
    "assert np.allclose(S1, S2)\n"
   ]
  },
  {
   "cell_type": "code",
   "execution_count": 86,
   "metadata": {},
   "outputs": [
    {
     "data": {
      "text/plain": [
       "DeviceArray([[1., 1., 0., 0.],\n",
       "             [1., 1., 0., 0.],\n",
       "             [0., 0., 1., 1.],\n",
       "             [0., 0., 1., 1.]], dtype=float32)"
      ]
     },
     "execution_count": 86,
     "metadata": {},
     "output_type": "execute_result"
    }
   ],
   "source": [
    "# Kronecker product\n",
    "\n",
    "np.kron(np.eye(2), np.ones((2,2)))\n"
   ]
  },
  {
   "cell_type": "code",
   "execution_count": 99,
   "metadata": {},
   "outputs": [
    {
     "name": "stdout",
     "output_type": "stream",
     "text": [
      "7.4161983\n",
      "5.0\n",
      "3.7022145\n",
      "7.0724216\n",
      "4.320558\n",
      "2.8176277\n",
      "2.5269188897052897\n",
      "12.36230186647291\n"
     ]
    }
   ],
   "source": [
    "# Vector Norms\n",
    "x = np.arange(6)\n",
    "print(np.linalg.norm(x, 2) ** 2)\n",
    "print(np.sum(np.power(x, 2)))\n",
    "print(np.linalg.norm(x, np.inf))\n",
    "\n",
    "# Matrix norms\n",
    "A = onp.random.randn(4,4)\n",
    "print(np.linalg.norm(A, ord=2))\n",
    "print(np.linalg.norm(A, ord='nuc'))\n",
    "print(np.linalg.norm(A, ord='fro'))\n",
    "\n"
   ]
  },
  {
   "cell_type": "code",
   "execution_count": null,
   "metadata": {},
   "outputs": [],
   "source": [
    "# Size of a matrix - not  all operations are supported by jax\n",
    "\n",
    "print(np.trace(A))\n",
    "print(onp.linalg.det(A))\n",
    "print(onp.linalg.cond(A))"
   ]
  },
  {
   "cell_type": "markdown",
   "metadata": {},
   "source": [
    "## Sparse matrices  <a class=\"anchor\" id=\"sparse\"></a>"
   ]
  },
  {
   "cell_type": "code",
   "execution_count": 87,
   "metadata": {},
   "outputs": [
    {
     "name": "stdout",
     "output_type": "stream",
     "text": [
      "  (0, 0)\t1.0\n",
      "  (1, 1)\t2.0\n",
      "  (2, 2)\t3.0\n",
      "[[1. 0. 0.]\n",
      " [0. 2. 0.]\n",
      " [0. 0. 3.]]\n"
     ]
    }
   ],
   "source": [
    "from scipy.sparse import diags\n",
    "A = diags([1,2,3])\n",
    "print(A)\n",
    "print(A.toarray())\n"
   ]
  },
  {
   "cell_type": "code",
   "execution_count": 88,
   "metadata": {},
   "outputs": [
    {
     "data": {
      "text/plain": [
       "array([[2, 3, 0, 0],\n",
       "       [0, 0, 4, 5],\n",
       "       [0, 0, 6, 7]])"
      ]
     },
     "execution_count": 88,
     "metadata": {},
     "output_type": "execute_result"
    }
   ],
   "source": [
    "# Block diagonal\n",
    "\n",
    "from scipy.linalg import block_diag\n",
    "block_diag([2, 3], [[4, 5], [6, 7]])\n",
    "\n"
   ]
  },
  {
   "cell_type": "markdown",
   "metadata": {},
   "source": [
    "Band diagonal\n",
    "\n",
    "See (https://pypi.org/project/bandmat)"
   ]
  },
  {
   "cell_type": "markdown",
   "metadata": {},
   "source": [
    "## Broadcasting  <a class=\"anchor\" id=\"broadcasting\"></a>"
   ]
  },
  {
   "cell_type": "markdown",
   "metadata": {},
   "source": [
    "In numpy, the command A * B computes the elementwise multiplication of arrays or tensors A and B.\n",
    "If these arrays have different shapes,\n",
    "they will be automatically converted to have compatible shapes by\n",
    "implictly replicating  certain dimensions; this is called\n",
    "**broadcasting**. The following conversion rules are applied\n",
    "in order:\n",
    "\n",
    "* If the two arrays differ in their number of dimensions, the\n",
    "   shape of the one with fewer dimensions is padded with ones on the\n",
    "   left side. For example, a scalar will be converted to a vector,\n",
    "   and a vector to a matrix with one row.\n",
    "* If the shape of the two arrays does not match in any dimension,\n",
    "   the array with shape equal to 1 in that dimension is stretched to\n",
    "   match the other shape, by replicating the corresponding contents.\n",
    "* If in any dimension the sizes disagree and neither is equal to\n",
    "   1, an error is raised.\n",
    "\n",
    "This is illustrated below.\n",
    "\n",
    "![Broadcasting](figures/broadcasting.png \"Broadcasting\")\n",
    "\n",
    "\n",
    "Source: Figure 2.4 of [VanderPlas2016](https://github.com/jakevdp/PythonDataScienceHandbook).\n",
    "Thanks to Jake VanderPlas.\n",
    "Made by [broadcasting_fig.py](https://github.com/probml/pyprobml/blob/master/scripts/broadcasting_fig.py)\n"
   ]
  },
  {
   "cell_type": "code",
   "execution_count": 89,
   "metadata": {},
   "outputs": [
    {
     "name": "stdout",
     "output_type": "stream",
     "text": [
      "[[ 0  2  6]\n",
      " [ 3  8 15]]\n"
     ]
    }
   ],
   "source": [
    "# Example: scaling each column\n",
    "X = np.reshape(np.arange(6), (2,3))\n",
    "s = np.array([1,2,3])\n",
    "XS = X * s \n",
    "print(XS)\n",
    "XS2 = np.dot(X, np.diag(s)) # post-multiply by diagonal\n",
    "assert np.allclose(XS, XS2)\n"
   ]
  },
  {
   "cell_type": "code",
   "execution_count": 90,
   "metadata": {},
   "outputs": [
    {
     "name": "stdout",
     "output_type": "stream",
     "text": [
      "[[ 0  1  2]\n",
      " [ 6  8 10]]\n"
     ]
    }
   ],
   "source": [
    "# Example: scaling each row\n",
    "X = np.reshape(np.arange(6), (2,3))\n",
    "s  = np.array([1,2])\n",
    "XS = X *  np.reshape(s, (-1,1)) \n",
    "print(XS)\n",
    "XS2 = np.dot(np.diag(s), X) # pre-multiply by diagonal\n",
    "assert np.allclose(XS, XS2)"
   ]
  },
  {
   "cell_type": "markdown",
   "metadata": {},
   "source": [
    "## Einstein summation  <a class=\"anchor\" id=\"broadcasting\"></a>"
   ]
  },
  {
   "cell_type": "markdown",
   "metadata": {},
   "source": [
    "Einstein summation lets us write formula such as  inputs -> outputs, which name the dimensions \n",
    "of the input tensor and output tensors; dimensions which are not named in the output are summed over - this is called **tensor contraction**.\n"
   ]
  },
  {
   "cell_type": "code",
   "execution_count": 91,
   "metadata": {},
   "outputs": [],
   "source": [
    "# Sample data\n",
    "a = np.arange(3)\n",
    "b = np.arange(3)\n",
    "A = np.arange(6).reshape(2,3)\n",
    "B = np.arange(15).reshape(3,5)\n",
    "S = np.arange(9).reshape(3,3)\n",
    "T = onp.random.randn(2,2,2,2)"
   ]
  },
  {
   "cell_type": "markdown",
   "metadata": {},
   "source": [
    "Now consider einsum with  a single tensor."
   ]
  },
  {
   "cell_type": "code",
   "execution_count": 92,
   "metadata": {},
   "outputs": [],
   "source": [
    "\n",
    "\n",
    "# Matrix transpose\n",
    "assert np.allclose(A.T, np.einsum('ij->ji', A))\n",
    "\n",
    "# Sum all elements\n",
    "assert np.allclose(np.sum(A), np.einsum('ij->', A))\n",
    "\n",
    "# Sum across rows\n",
    "assert np.allclose(np.sum(A, axis=0), np.einsum('ij->j', A))\n",
    "\n",
    "# Sum across columns\n",
    "assert np.allclose(np.sum(A, axis=1), np.einsum('ij->i', A))\n",
    "\n",
    "# Sum specific axis of tensor\n",
    "assert np.allclose(np.sum(T, axis=1), np.einsum('ijkl->ikl', T))\n",
    "assert np.allclose(np.sum(np.sum(T, axis=0), axis=0), np.einsum('ijkl->kl', T))\n",
    "\n",
    "# repeated indices with one arg extracts diagonals\n",
    "assert np.allclose(np.diag(S), np.einsum('ii->i', S))\n",
    "          \n",
    "# Trace\n",
    "assert np.allclose(np.trace(S), np.einsum('ii->', S))\n"
   ]
  },
  {
   "cell_type": "markdown",
   "metadata": {},
   "source": [
    "Now consider einsum with 2 tensors."
   ]
  },
  {
   "cell_type": "code",
   "execution_count": 93,
   "metadata": {},
   "outputs": [],
   "source": [
    "\n",
    "\n",
    "# Matrix vector multiplication\n",
    "assert np.allclose(np.dot(A, b), np.einsum('ik,k->i', A, b))\n",
    "\n",
    "# Matrix matrix multiplication\n",
    "assert np.allclose(np.dot(A, B), np.einsum('ik,kj->ij', A, B))\n",
    "assert np.allclose(np.matmul(A, B), np.einsum('ik,kj->ij', A, B))\n",
    "\n",
    "# Inner product \n",
    "assert np.allclose(np.dot(a, b), np.einsum('i,i->', a, b))\n",
    "assert np.allclose(np.inner(a, b), np.einsum('i,i->', a, b))\n",
    "\n",
    "# Outer product\n",
    "assert np.allclose(np.outer(a, b), np.einsum('i,j->ij', a, b))\n",
    "\n",
    "# Elementwise product\n",
    "assert np.allclose(a * a, np.einsum('i,i->i', a, a))\n",
    "assert np.allclose(A * A, np.einsum('ij,ij->ij', A, A))\n",
    "assert np.allclose(np.multiply(A, A), np.einsum('ij,ij->ij', A, A))\n"
   ]
  },
  {
   "cell_type": "markdown",
   "metadata": {},
   "source": [
    " As a more complex example,\n",
    " suppose we have a 3d tensor $S_{ntk}$ where $n$ indexes examples in the\n",
    " batch, $t$ indexes locations in the sequence, and $k$ indexes words\n",
    " in a one-hot representation.\n",
    " Let $W_{kd}$ be an embedding matrix that maps sparse one-hot vectors\n",
    " $R^k$  to dense vectors in $R^d$.\n",
    " We can convert the batch of sequences of one-hots\n",
    " to a batch of sequences of embeddings as follows:\n",
    "$$\n",
    "E_{ntd} = \\sum_k S_{ntk} W_{kd}\n",
    "$$\n",
    "We can compute the sum of the embedding vectors for\n",
    "each sequence (to get a global representation\n",
    "of each bag of words) as follows:\n",
    "$$\n",
    "E_{nd} = \\sum_k \\sum_t S_{ntk} W_{kd}\n",
    "$$\n",
    "Finally we can pass each sequence's vector representation\n",
    "through another linear transform $V_{dc}$ to map to the logits over a\n",
    "classifier\n",
    "with $c$ labels:\n",
    "$$\n",
    "L_{nc} = \\sum_d E_{nd} V_{dc}\n",
    "= \\sum_d \\sum_k \\sum_t S_{ntk} W_{kd} V_{dc}\n",
    "$$\n",
    "In einsum notation, we have\n",
    "$$\n",
    "L_{nc} = S_{ntk} W_{kd} V_{dc}\n",
    "$$\n",
    "We sum  over $k$ and $d$  because those\n",
    "indices occur twice on the RHS.\n",
    "We sum over $t$  because that index does not occur\n",
    "on the LHS."
   ]
  },
  {
   "cell_type": "code",
   "execution_count": 95,
   "metadata": {},
   "outputs": [],
   "source": [
    "# sentence embedding example in code\n",
    "\n",
    "N = 2; C = 3; D = 4; K = 5; T = 6;\n",
    "S = onp.random.randn(N, T, K)\n",
    "W = onp.random.randn(K, D)\n",
    "V = onp.random.randn(D, C)\n",
    "Lfast = np.einsum('ntk,kd,dc->nc', S, W, V)\n",
    "# Compare to brute force way of computing L below.\n",
    "# We can only do elementwise assignment to L in original numpy, not jax\n",
    "L = onp.zeros((N,C))\n",
    "for n in range(N):\n",
    "    for c in range(C):\n",
    "        s = 0\n",
    "        for d in range(D):\n",
    "            for k in range(K):\n",
    "                for t in range(T):\n",
    "                    s += S[n,t,k] * W[k,d] * V[d,c]\n",
    "        L[n,c] = s # does not work in jax\n",
    "assert np.allclose(L, Lfast)"
   ]
  },
  {
   "cell_type": "code",
   "execution_count": 96,
   "metadata": {},
   "outputs": [],
   "source": [
    "# Optimization\n",
    "\n",
    "path = np.einsum_path('ntk,kd,dc->nc', S, W, V, optimize='optimal')[0]\n",
    "assert np.allclose(L, np.einsum('ntk,kd,dc->nc', S, W, V, optimize=path))\n"
   ]
  },
  {
   "cell_type": "markdown",
   "metadata": {},
   "source": [
    "## Eigenvalue decomposition (EVD)<a class=\"anchor\" id=\"EVD\"></a>"
   ]
  },
  {
   "cell_type": "code",
   "execution_count": 96,
   "metadata": {},
   "outputs": [
    {
     "name": "stdout",
     "output_type": "stream",
     "text": [
      "[ 3.353+0.j  1.016+0.j -3.806+0.j -2.09 +0.j]\n",
      "[[-0.45 +0.j  0.824+0.j  0.277+0.j -0.202+0.j]\n",
      " [ 0.489+0.j  0.369+0.j  0.246+0.j  0.751+0.j]\n",
      " [ 0.505+0.j  0.427+0.j -0.68 +0.j -0.316+0.j]\n",
      " [-0.55 +0.j  0.045+0.j -0.633+0.j  0.543+0.j]]\n",
      "[-3.806+0.j  3.353+0.j -2.09 +0.j  1.016+0.j]\n",
      "[[ 0.277+0.j -0.45 +0.j -0.202+0.j  0.824+0.j]\n",
      " [ 0.246+0.j  0.489+0.j  0.751+0.j  0.369+0.j]\n",
      " [-0.68 +0.j  0.505+0.j -0.316+0.j  0.427+0.j]\n",
      " [-0.633+0.j -0.55 +0.j  0.543+0.j  0.045+0.j]]\n"
     ]
    }
   ],
   "source": [
    "onp.random.seed(42)\n",
    "M = onp.random.randn(4, 4)\n",
    "A = M  + M.T # ensure symmetric\n",
    "evals, evecs = np.linalg.eig(A)\n",
    "print(evals)\n",
    "print(evecs)\n",
    "\n",
    "# Sort columns so one with largest eval is first\n",
    "idx = np.argsort(np.abs(evals))[::-1] # largest first\n",
    "evecs = evecs[:, idx] # sort columns\n",
    "evals = evals[idx]\n",
    "print(evals)\n",
    "print(evecs)"
   ]
  },
  {
   "cell_type": "markdown",
   "metadata": {},
   "source": [
    "### Example: Diagonalizing a rotation matrix <a class=\"anchor\" id=\"EVD-rotation\"></a>\n",
    "\n",
    "As an example, let us construct $A$\n",
    "by combining\n",
    "a rotation by 45 degrees about the $z$ axis,\n",
    "a scaling by $\\diag(1,2,3)$, followed by another rotation of -45 degrees.\n",
    "These components can be recovered from $A$ using EVD, as we show below.\n"
   ]
  },
  {
   "cell_type": "code",
   "execution_count": 97,
   "metadata": {},
   "outputs": [
    {
     "name": "stdout",
     "output_type": "stream",
     "text": [
      "[[ 0.707 -0.707  0.   ]\n",
      " [ 0.707  0.707  0.   ]\n",
      " [ 0.     0.     1.   ]]\n"
     ]
    }
   ],
   "source": [
    "a = (45/180) * np.pi\n",
    "R = np.array(\n",
    "        [[np.cos(a), -np.sin(a), 0],\n",
    "          [np.sin(a), np.cos(a), 0],\n",
    "          [0, 0, 1]])\n",
    "print(R)\n",
    "\n",
    "S = np.diag(np.array([1.0, 2.0, 3.0]))\n",
    "A = np.dot(np.dot(R, S), R.T) # Rotate, scale, then unrotate\n",
    "\n",
    "\n",
    "evals, evecs = np.linalg.eig(A)\n",
    "idx = np.argsort(np.abs(evals)) # smallest first\n",
    "U = evecs[:, idx] # sort columns\n",
    "D = np.diag(evals[idx])\n",
    "\n",
    "assert np.allclose(A, np.dot(U, np.dot(D, U.T))) # eigen decomposition\n",
    "assert np.allclose(np.abs(R), np.abs(U)) # Recover rotation\n",
    "assert np.allclose(D, S)  # Recover scale\n",
    "\n"
   ]
  },
  {
   "cell_type": "markdown",
   "metadata": {},
   "source": [
    "### Example: checking for positive definitness\n",
    "\n",
    "A symmetric matrix is positive definite iff all its eigenvalues are positive.\n"
   ]
  },
  {
   "cell_type": "code",
   "execution_count": 98,
   "metadata": {},
   "outputs": [
    {
     "name": "stdout",
     "output_type": "stream",
     "text": [
      "True\n"
     ]
    }
   ],
   "source": [
    "onp.random.seed(42)\n",
    "M = onp.random.randn(3, 4)\n",
    "A = np.dot(M, M.T) # ensure A is positive definite\n",
    "evals, evecs = np.linalg.eig(A)\n",
    "\n",
    "def isposdef(A):\n",
    "    evals, evecs = np.linalg.eig(A)\n",
    "    return np.all(evals > 0)\n",
    "\n",
    "print(isposdef(A))"
   ]
  },
  {
   "cell_type": "markdown",
   "metadata": {},
   "source": [
    "### Power method"
   ]
  },
  {
   "cell_type": "code",
   "execution_count": 100,
   "metadata": {},
   "outputs": [],
   "source": [
    "from numpy.linalg import norm\n",
    "\n",
    "onp.random.seed(0)\n",
    "\n",
    "def power_method(A, max_iter=100, tol=1e-5):\n",
    "    n = np.shape(A)[0]\n",
    "    u = onp.random.rand(n)\n",
    "    converged = False\n",
    "    iter = 0\n",
    "    while (not converged) and (iter < max_iter):\n",
    "        old_u = u\n",
    "        u = np.dot(A, u)\n",
    "        u = u / norm(u)\n",
    "        lam = np.dot(u, np.dot(A, u))\n",
    "        converged = (norm(u - old_u) < tol)\n",
    "        iter += 1\n",
    "    return lam, u\n",
    "\n",
    "X = onp.random.randn(10, 5)\n",
    "A = np.dot(X.T, X) # psd matrix\n",
    "lam, u = power_method(A)\n",
    "\n",
    "evals, evecs = np.linalg.eig(A)\n",
    "idx = np.argsort(np.abs(evals))[::-1] # largest first\n",
    "evals = evals[idx]\n",
    "evecs = evecs[:,idx]\n",
    "\n",
    "tol = 1e-3\n",
    "assert np.allclose(evecs[:,0], u, tol)"
   ]
  },
  {
   "cell_type": "markdown",
   "metadata": {},
   "source": [
    "## Singular value decomposition (SVD) <a class=\"anchor\" id=\"SVD\"></a>"
   ]
  },
  {
   "cell_type": "code",
   "execution_count": 114,
   "metadata": {},
   "outputs": [
    {
     "name": "stdout",
     "output_type": "stream",
     "text": [
      "3\n",
      "3\n"
     ]
    }
   ],
   "source": [
    "onp.random.seed(0)\n",
    "# Make a rank K random matrix\n",
    "K = 3\n",
    "D = 10\n",
    "A = onp.zeros((D, D), dtype=np.float32) # we use onp so we can mutate A in place\n",
    "for i in range(K):\n",
    "    x = onp.random.randn(D)\n",
    "    A = A + np.outer(x, x)\n",
    "\n",
    "U, S, V = np.linalg.svd(A,full_matrices=False)\n",
    "print(np.sum(S > 1e-5))\n",
    "print(onp.linalg.matrix_rank(A))\n"
   ]
  },
  {
   "cell_type": "code",
   "execution_count": 115,
   "metadata": {},
   "outputs": [
    {
     "name": "stdout",
     "output_type": "stream",
     "text": [
      "Full=False: shape of U (10, 5), S (5,), V (5, 5)\n",
      "Full=True: shape of U (10, 10), S (5,), V (5, 5)\n"
     ]
    }
   ],
   "source": [
    "onp.random.seed(0)\n",
    "\n",
    "A = onp.random.randn(10, 5)\n",
    "\n",
    "U, S, V = np.linalg.svd(A,full_matrices=False)\n",
    "print(\"Full=False: shape of U {}, S {}, V {}\".format(U.shape, S.shape, V.shape))\n",
    "\n",
    "U, S, V = np.linalg.svd(A,full_matrices=True)\n",
    "print(\"Full=True: shape of U {}, S {}, V {}\".format(U.shape, S.shape, V.shape))\n"
   ]
  },
  {
   "cell_type": "markdown",
   "metadata": {},
   "source": [
    "## Low rank approximation to an image <a class=\"anchor\" id=\"SVD-image\"></a>"
   ]
  },
  {
   "cell_type": "code",
   "execution_count": 41,
   "metadata": {},
   "outputs": [
    {
     "name": "stdout",
     "output_type": "stream",
     "text": [
      "200\n"
     ]
    },
    {
     "data": {
      "image/png": "[encoded data removed]",
      "text/plain": [
       "<Figure size 1080x720 with 6 Axes>"
      ]
     },
     "metadata": {
      "needs_background": "light"
     },
     "output_type": "display_data"
    }
   ],
   "source": [
    "import matplotlib.image\n",
    "\n",
    "def rgb2gray(rgb):\n",
    "    return onp.dot(rgb[...,:3], [0.2989, 0.5870, 0.1140])\n",
    "\n",
    "data_dir = \"../data\"\n",
    "img = matplotlib.image.imread(os.path.join(data_dir, \"clown.png\"))\n",
    "X = rgb2gray(img)    \n",
    "\n",
    "r = onp.linalg.matrix_rank(X)\n",
    "print(r)\n",
    "\n",
    "U, sigma, V = np.linalg.svd(X, full_matrices=True)\n",
    "ranks = [1, 2, 5, 10, 20, r]\n",
    "R = len(ranks)\n",
    "\n",
    "fig, axes = plt.subplots(2, 3, figsize=[15, 10])\n",
    "axes = axes.reshape(-1)\n",
    "for i in range(R):\n",
    "    k = ranks[i] \n",
    "    x_hat = np.dot(np.dot(U[:, :k], np.diag(sigma[:k])), V[:k, :]) \n",
    "    ax = axes[i]\n",
    "    #plt.subplot(2, 3, i+1)\n",
    "    ax.imshow(x_hat, cmap='gray')\n",
    "    ax.set_title(\"rank {}\".format(k))\n",
    "    #save_fig(\"svdImageDemoClown{}.pdf\".format(k))\n",
    "plt.show()\n",
    "\n"
   ]
  },
  {
   "cell_type": "code",
   "execution_count": 130,
   "metadata": {},
   "outputs": [
    {
     "data": {
      "image/png": "[encoded data removed]",
      "text/plain": [
       "<Figure size 432x288 with 1 Axes>"
      ]
     },
     "metadata": {
      "needs_background": "light"
     },
     "output_type": "display_data"
    }
   ],
   "source": [
    "# Plot singular value spectrum\n",
    "k = 100\n",
    "plt.figure()\n",
    "plt.plot(np.log(sigma[:k]), 'r-', linewidth=4, label=\"Original\")\n",
    "plt.ylabel(r\"$log(\\sigma_i)$\")\n",
    "plt.xlabel(\"i\")\n",
    "\n",
    "\n",
    "# Compare this to a random shuffled version of the image\n",
    "x2 = onp.random.permutation(X)\n",
    "# so we convert to a 1d vector, permute, and convert back\n",
    "x1d = X.ravel()\n",
    "onp.random.shuffle(x1d) # inplace\n",
    "x2 = x1d.reshape(X.shape)\n",
    "U, sigma2, V = np.linalg.svd(x2, full_matrices = False)\n",
    "plt.plot(np.log(sigma2[:k]), 'g:', linewidth=4, label=\"Randomized\")\n",
    "plt.legend()\n",
    "#save_fig(\"svdImageDemoClownSigmaScrambled.pdf\")\n",
    "plt.show()"
   ]
  },
  {
   "cell_type": "markdown",
   "metadata": {},
   "source": [
    "## Other matrix decompositions <a class=\"anchor\" id=\"decomp\"></a>\n",
    "\n",
    "In this section, we illustrate a few other matrix decompositions."
   ]
  },
  {
   "cell_type": "markdown",
   "metadata": {},
   "source": [
    "### LU decomposition <a class=\"anchor\" id=\"decomp-LU\"></a>"
   ]
  },
  {
   "cell_type": "code",
   "execution_count": 135,
   "metadata": {},
   "outputs": [
    {
     "name": "stdout",
     "output_type": "stream",
     "text": [
      "[[ 0.339 -0.04   0.733  1.     0.   ]\n",
      " [-0.16   1.     0.     0.     0.   ]\n",
      " [-0.316 -0.348  0.597 -0.423  1.   ]\n",
      " [-0.384 -0.712  1.     0.     0.   ]\n",
      " [ 1.     0.     0.     0.     0.   ]]\n",
      "[[ 1.466 -0.226  0.068 -1.425 -0.544]\n",
      " [ 0.     1.543  0.778 -0.697  0.456]\n",
      " [ 0.     0.     0.895 -1.951 -1.297]\n",
      " [ 0.     0.     0.     3.409  0.919]\n",
      " [ 0.     0.     0.     0.    -0.576]]\n"
     ]
    }
   ],
   "source": [
    "\n",
    "onp.random.seed(42)\n",
    "A = onp.random.randn(5,5)\n",
    "L, U = scipy.linalg.lu(A, True)\n",
    "print(L)\n",
    "print(U)"
   ]
  },
  {
   "cell_type": "markdown",
   "metadata": {},
   "source": [
    "### QR decomposition <a class=\"anchor\" id=\"decomp-QR\"></a>\n",
    "\n"
   ]
  },
  {
   "cell_type": "code",
   "execution_count": 147,
   "metadata": {},
   "outputs": [
    {
     "name": "stdout",
     "output_type": "stream",
     "text": [
      "economy: Q shape (5, 3), R shape (3, 3)\n",
      "[[-0.213 -0.068  0.765]\n",
      " [-0.655 -0.119  0.303]\n",
      " [-0.679  0.35  -0.49 ]\n",
      " [-0.233 -0.221  0.004]\n",
      " [-0.104 -0.9   -0.29 ]]\n",
      "[[-2.327 -0.031  0.622]\n",
      " [ 0.     2.13   1.474]\n",
      " [ 0.     0.     1.152]]\n",
      "full: Q shape (5, 5), R shape (5, 3)\n",
      "[[-0.213 -0.068  0.765 -0.018  0.604]\n",
      " [-0.655 -0.119  0.303 -0.248 -0.635]\n",
      " [-0.679  0.35  -0.49  -0.046  0.418]\n",
      " [-0.233 -0.221  0.004  0.943 -0.085]\n",
      " [-0.104 -0.9   -0.29  -0.215  0.222]]\n",
      "[[-2.327 -0.031  0.622]\n",
      " [ 0.     2.13   1.474]\n",
      " [ 0.     0.     1.152]\n",
      " [ 0.     0.     0.   ]\n",
      " [ 0.     0.     0.   ]]\n"
     ]
    }
   ],
   "source": [
    "# Economy vs full mode\n",
    "\n",
    "onp.random.seed(42)\n",
    "A = onp.random.randn(5,3)\n",
    "Q, R = scipy.linalg.qr(A, mode='economic')\n",
    "print(\"economy: Q shape {}, R shape {}\".format(Q.shape, R.shape))\n",
    "print(Q)\n",
    "print(R)\n",
    "\n",
    "\n",
    "Q, R = scipy.linalg.qr(A, mode='full')\n",
    "print(\"full: Q shape {}, R shape {}\".format(Q.shape, R.shape))\n",
    "print(Q)\n",
    "print(R)\n",
    "assert np.allclose(np.eye(5), np.dot(Q, Q.T), atol=1e-3)"
   ]
  },
  {
   "cell_type": "markdown",
   "metadata": {},
   "source": [
    "### Cholesky decomposition <a class=\"anchor\" id=\"decomp-chol\"></a>"
   ]
  },
  {
   "cell_type": "code",
   "execution_count": 37,
   "metadata": {},
   "outputs": [
    {
     "name": "stdout",
     "output_type": "stream",
     "text": [
      "[[ 3.762 -0.445 -1.572 -0.246 -1.439]\n",
      " [-0.445  7.072  4.914  3.109  2.191]\n",
      " [-1.572  4.914  4.203  1.467  2.151]\n",
      " [-0.246  3.109  1.467  4.522  1.431]\n",
      " [-1.439  2.191  2.151  1.431  1.896]]\n",
      "[[ 3.652 -0.479 -1.567 -0.274 -1.432]\n",
      " [-0.479  7.126  4.982  3.107  2.228]\n",
      " [-1.567  4.982  4.26   1.488  2.179]\n",
      " [-0.274  3.107  1.488  4.53   1.462]\n",
      " [-1.432  2.228  2.179  1.462  1.924]]\n"
     ]
    }
   ],
   "source": [
    "# Sample from multivariate Gaussian\n",
    "\n",
    "from scipy.stats import multivariate_normal as mvn\n",
    "\n",
    "def sample_mvn(mu, Sigma, N):\n",
    "    L = np.linalg.cholesky(Sigma)\n",
    "    D = len(mu)\n",
    "    Z = onp.random.randn(N, D)\n",
    "    X = np.dot(Z, L.T) + np.reshape(mu, (-1,D))\n",
    "    return X\n",
    "\n",
    "D = 5\n",
    "onp.random.seed(42)\n",
    "mu = onp.random.randn(D)\n",
    "A = onp.random.randn(D,D)\n",
    "Sigma = np.dot(A, A.T)\n",
    "N = 10000\n",
    "X = sample_mvn(mu, Sigma, N)\n",
    "mu_hat = np.mean(X)\n",
    "C = onp.cov(X, rowvar=False) # not yet implemented by jax\n",
    "print(C)\n",
    "print(Sigma)\n",
    "assert np.allclose(C, Sigma, 1e-0) # not that close, even after 10k samples...\n",
    "\n",
    "dist = mvn(mu, Sigma)\n",
    "X = dist.rvs(size=N)\n",
    "C = onp.cov(X, rowvar=False)\n",
    "assert np.allclose(C, Sigma, 1e-0)\n",
    "    "
   ]
  },
  {
   "cell_type": "code",
   "execution_count": 38,
   "metadata": {},
   "outputs": [
    {
     "name": "stdout",
     "output_type": "stream",
     "text": [
      "False\n",
      "True\n"
     ]
    }
   ],
   "source": [
    "# Check for positive definiteness\n",
    "# In scipy, calling cholesky on a non-PSD matrix raise the LinAlg exception.\n",
    "# In Jax, it returns a matrix with NaN (https://github.com/google/jax/issues/775)\n",
    "    \n",
    "def isposdef(A):\n",
    "    try:\n",
    "        L = np.linalg.cholesky(A)\n",
    "        if np.any(np.isnan(L)):\n",
    "            return False\n",
    "        else:\n",
    "            return True\n",
    "    except:\n",
    "        return False\n",
    "    \n",
    "onp.random.seed(42)\n",
    "A = onp.random.randn(5, 5)\n",
    "B = np.dot(A, A.T)\n",
    "\n",
    "\n",
    "print(isposdef(A))\n",
    "print(isposdef(B))\n"
   ]
  },
  {
   "cell_type": "markdown",
   "metadata": {},
   "source": [
    "## Matrix calculus <a class=\"anchor\" id=\"calculus\"></a>"
   ]
  },
  {
   "cell_type": "markdown",
   "metadata": {},
   "source": [
    "### Automatic differentiation in Jax  <a class=\"anchor\" id=\"AD-jax\"></a>\n",
    "\n",
    "In this section, we show how to use Jax to compute gradients, Jacobians and Hessians\n",
    "of some simple functions."
   ]
  },
  {
   "cell_type": "code",
   "execution_count": 41,
   "metadata": {},
   "outputs": [
    {
     "name": "stdout",
     "output_type": "stream",
     "text": [
      "jax version 0.1.39\n"
     ]
    }
   ],
   "source": [
    "import jax\n",
    "import jax.numpy as np\n",
    "import numpy as onp\n",
    "from jax import grad, jacfwd, jacrev, jit, vmap, hessian\n",
    "print(\"jax version {}\".format(jax.__version__))"
   ]
  },
  {
   "cell_type": "code",
   "execution_count": 16,
   "metadata": {},
   "outputs": [],
   "source": [
    "# We construct a single output linear function.\n",
    "# In this case, the Jacobian and gradient are the same.\n",
    "Din = 3; Dout = 1;\n",
    "onp.random.seed(42)\n",
    "A = onp.random.randn(Dout, Din)\n",
    "def fun1d(x):\n",
    "    return np.dot(A, x)[0]\n",
    "x = onp.random.randn(Din)\n",
    "g = grad(fun1d)(x)\n",
    "J = jacrev(fun1d)(x)\n",
    "assert np.allclose(J, g)"
   ]
  },
  {
   "cell_type": "code",
   "execution_count": 17,
   "metadata": {},
   "outputs": [],
   "source": [
    "# We construct a multi-output linear function.\n",
    "# We check forward and reverse mode give same Jacobians.\n",
    "Din = 3; Dout = 4;\n",
    "A = onp.random.randn(Dout, Din)\n",
    "def fun(x):\n",
    "    return np.dot(A, x)\n",
    "x = onp.random.randn(Din)\n",
    "Jf = jacfwd(fun)(x)\n",
    "Jr = jacrev(fun)(x)\n",
    "assert np.allclose(Jf, Jr)\n",
    "assert np.allclose(Jf, A)"
   ]
  },
  {
   "cell_type": "code",
   "execution_count": 43,
   "metadata": {},
   "outputs": [],
   "source": [
    "# Hessian of a quadratic form\n",
    "D = 4\n",
    "A = onp.random.randn(D, D)\n",
    "x = onp.random.randn(D)\n",
    "quadfun = lambda x: np.dot(x, np.dot(A, x))\n",
    "H1 = hessian(quadfun)(x)\n",
    "assert np.allclose(H1, A+A.T)\n",
    "\n",
    "def my_hessian(fun):\n",
    "  return jacfwd(jacrev(fun))\n",
    "\n",
    "H2 = my_hessian(quadfun)(x)\n",
    "assert np.allclose(H1, H2)"
   ]
  },
  {
   "cell_type": "markdown",
   "metadata": {},
   "source": [
    "### Worked example: logistic regression  <a class=\"anchor\" id=\"AD-jax-logreg\"></a>\n",
    "\n",
    "In this section, we compute the gradients and Hessian of the NLL  for binary logistic regression using Jax, and compare to the analytical formula. We then solve for the MLE using a (batch) optimizer, and compare to sklearn. Since the objective is convex, we should get exactly the same answer."
   ]
  },
  {
   "cell_type": "code",
   "execution_count": 28,
   "metadata": {},
   "outputs": [],
   "source": [
    "# First we create a dataset.\n",
    "\n",
    "import sklearn.datasets\n",
    "from sklearn.model_selection import train_test_split\n",
    "\n",
    "iris = sklearn.datasets.load_iris()\n",
    "X = iris[\"data\"]\n",
    "y = (iris[\"target\"] == 2).astype(onp.int)  # 1 if Iris-Virginica, else 0'\n",
    "N, D = X.shape # 150, 4\n",
    "\n",
    "\n",
    "X_train, X_test, y_train, y_test = train_test_split(\n",
    "        X, y, test_size=0.33, random_state=42)"
   ]
  },
  {
   "cell_type": "code",
   "execution_count": 29,
   "metadata": {},
   "outputs": [
    {
     "name": "stdout",
     "output_type": "stream",
     "text": [
      "[-4.414 -9.111  6.539 12.686]\n"
     ]
    }
   ],
   "source": [
    "# Now let's find the MLE using sklearn. We will use this as the \"gold standard\"\n",
    "\n",
    "from sklearn.linear_model import LogisticRegression\n",
    "\n",
    "# We set C to a large number to turn off regularization.\n",
    "# We don't fit the bias term to simplify the comparison below.\n",
    "log_reg = LogisticRegression(solver=\"lbfgs\", C=1e5, fit_intercept=False)\n",
    "log_reg.fit(X_train, y_train)\n",
    "w_mle_sklearn = np.ravel(log_reg.coef_)\n",
    "print(w_mle_sklearn)\n"
   ]
  },
  {
   "cell_type": "code",
   "execution_count": 31,
   "metadata": {},
   "outputs": [
    {
     "name": "stdout",
     "output_type": "stream",
     "text": [
      "[0.002 0.    1.    0.012 0.002 0.    0.    0.979 0.74  0.    0.706 0.\n",
      " 0.    0.    0.    0.001 1.    0.    0.009 1.    0.    0.65  0.    1.\n",
      " 0.094 0.998 1.    1.    0.    0.    0.    0.    0.    0.    0.    0.998\n",
      " 0.    0.    0.    0.    0.999 0.    0.    0.    0.    0.    0.281 0.909\n",
      " 0.    0.999]\n",
      "[0.002 0.    1.    0.012 0.002 0.    0.    0.979 0.74  0.    0.706 0.\n",
      " 0.    0.    0.    0.001 1.    0.    0.009 1.    0.    0.65  0.    1.\n",
      " 0.094 0.998 1.    1.    0.    0.    0.    0.    0.    0.    0.    0.998\n",
      " 0.    0.    0.    0.    0.999 0.    0.    0.    0.    0.    0.281 0.909\n",
      " 0.    0.999]\n"
     ]
    }
   ],
   "source": [
    "# Now we try to fit the model ourselves.\n",
    "# First we define the model, and check it gives the same output as sklearn.\n",
    "\n",
    "def sigmoid(x): return 0.5 * (np.tanh(x / 2.) + 1)\n",
    "\n",
    "def predict_logit(weights, inputs):\n",
    "    return np.dot(inputs, weights) # Already vectorized\n",
    "\n",
    "def predict_prob(weights, inputs):\n",
    "    return sigmoid(predict_logit(weights, inputs))\n",
    "\n",
    "ptest_sklearn = log_reg.predict_proba(X_test)[:,1]\n",
    "print(np.round(ptest_sklearn, 3))\n",
    "\n",
    "ptest_us = predict_prob(w_mle_sklearn, X_test)\n",
    "print(np.round(ptest_us, 3))\n",
    "\n",
    "assert np.allclose(ptest_sklearn, ptest_us, atol=1e-2)"
   ]
  },
  {
   "cell_type": "code",
   "execution_count": 36,
   "metadata": {},
   "outputs": [
    {
     "name": "stdout",
     "output_type": "stream",
     "text": [
      "0.06907700269494399\n",
      "0.069077\n",
      "nan\n",
      "0.1182400287013661\n",
      "0.11824003\n",
      "0.11824003\n"
     ]
    }
   ],
   "source": [
    "# Next we define the objective and check it gives the same output as sklearn.\n",
    "\n",
    "from sklearn.metrics import log_loss\n",
    "from jax.scipy.special import logsumexp\n",
    "#from scipy.misc import logsumexp\n",
    "\n",
    "def NLL_unstable(weights, batch):\n",
    "    inputs, targets = batch\n",
    "    p1 = predict_prob(weights, inputs)\n",
    "    logprobs = np.log(p1) * targets + np.log(1 - p1) * (1 - targets)\n",
    "    N = inputs.shape[0]\n",
    "    return -np.sum(logprobs)/N\n",
    "\n",
    "\n",
    "def NLL(weights, batch):\n",
    "    # Use log-sum-exp trick\n",
    "    inputs, targets = batch\n",
    "    # p1 = 1/(1+exp(-logit)), p0 = 1/(1+exp(+logit))\n",
    "    logits = predict_logit(weights, inputs).reshape((-1,1))\n",
    "    N = logits.shape[0]\n",
    "    logits_plus = np.hstack([np.zeros((N,1)), logits]) # e^0=1\n",
    "    logits_minus = np.hstack([np.zeros((N,1)), -logits])\n",
    "    logp1 = -logsumexp(logits_minus, axis=1)\n",
    "    logp0 = -logsumexp(logits_plus, axis=1)\n",
    "    logprobs = logp1 * targets + logp0 * (1-targets)\n",
    "    return -np.sum(logprobs)/N\n",
    "\n",
    "# We can use a small amount of L2 regularization, for numerical stability\n",
    "def PNLL(weights, batch, l2_penalty=1e-5):\n",
    "    nll = NLL(weights, batch)\n",
    "    l2_norm = np.sum(np.power(weights, 2)) # squared L2 norm\n",
    "    return nll + l2_penalty*l2_norm\n",
    "\n",
    "# We evaluate the training loss at the MLE, where the parameter values are \"extreme\".\n",
    "nll_train = log_loss(y_train, predict_prob(w_mle_sklearn, X_train))\n",
    "nll_train2 = NLL(w_mle_sklearn, (X_train, y_train))\n",
    "nll_train3 = NLL_unstable(w_mle_sklearn, (X_train, y_train))\n",
    "print(nll_train)\n",
    "print(nll_train2)\n",
    "print(nll_train3)\n",
    "\n",
    "# We also evaluate on the test set.\n",
    "nll_test = log_loss(y_test, predict_prob(w_mle_sklearn, X_test))\n",
    "nll_test2 = NLL(w_mle_sklearn, (X_test, y_test))\n",
    "nll_test3 = NLL_unstable(w_mle_sklearn, (X_test, y_test))\n",
    "print(nll_test)\n",
    "print(nll_test2)\n",
    "print(nll_test3)\n",
    "    \n",
    "assert np.allclose(nll_train, nll_train2) # true\n",
    "#assert np.allclose(nll_train, nll_train3) # false!\n",
    "\n",
    "assert np.allclose(nll_test, nll_test2) # true\n",
    "assert np.allclose(nll_test, nll_test3) # true\n"
   ]
  },
  {
   "cell_type": "code",
   "execution_count": 54,
   "metadata": {},
   "outputs": [],
   "source": [
    "# Next we check the gradients compared to the manual formulas.\n",
    "# For simplicity, we initially just do this for a single random example.\n",
    "\n",
    "onp.random.seed(42)\n",
    "D = 5\n",
    "w = onp.random.randn(D)\n",
    "x = onp.random.randn(D)\n",
    "y = 0 \n",
    "\n",
    "#d/da sigmoid(a) = s(a) * (1-s(a))\n",
    "deriv_sigmoid = lambda a: sigmoid(a) * (1-sigmoid(a))\n",
    "deriv_sigmoid_jax = grad(sigmoid)\n",
    "a = 1.5 # a random logit\n",
    "assert np.isclose(deriv_sigmoid(a), deriv_sigmoid_jax(a))\n",
    "\n",
    "# mu(w)=s(w'x), d/dw mu(w) = mu * (1-mu) .* x\n",
    "def mu(w): return sigmoid(np.dot(w,x))\n",
    "def deriv_mu(w): return mu(w) * (1-mu(w)) * x\n",
    "deriv_mu_jax =  grad(mu)\n",
    "assert np.allclose(deriv_mu(w), deriv_mu_jax(w))\n",
    "\n",
    "# NLL(w) = -[y*log(mu) + (1-y)*log(1-mu)]\n",
    "# d/dw NLL(w) = (mu-y)*x\n",
    "def nll(w): return -(y*np.log(mu(w)) + (1-y)*np.log(1-mu(w)))\n",
    "def deriv_nll(w): return (mu(w)-y)*x\n",
    "deriv_nll_jax = grad(nll)\n",
    "assert np.allclose(deriv_nll(w), deriv_nll_jax(w))\n",
    "\n"
   ]
  },
  {
   "cell_type": "code",
   "execution_count": 56,
   "metadata": {},
   "outputs": [
    {
     "name": "stdout",
     "output_type": "stream",
     "text": [
      "[ 3.976e-08  7.068e-07 -9.914e-07 -1.430e-06]\n",
      "[ 7.674e-08  7.187e-07 -9.876e-07 -1.430e-06]\n",
      "[[0.802 0.366 0.644 0.213]\n",
      " [0.366 0.168 0.294 0.098]\n",
      " [0.644 0.294 0.519 0.171]\n",
      " [0.213 0.098 0.171 0.057]]\n",
      "[[0.802 0.366 0.644 0.213]\n",
      " [0.366 0.168 0.294 0.098]\n",
      " [0.644 0.294 0.519 0.171]\n",
      " [0.213 0.098 0.171 0.057]]\n"
     ]
    }
   ],
   "source": [
    "# Now let's check the batch version using our dataset.\n",
    "\n",
    "N = X_train.shape[0]\n",
    "mu = predict_prob(w_mle_sklearn, X_train)\n",
    "\n",
    "g1 = grad(NLL)(w_mle_sklearn, (X_train, y_train))\n",
    "g2 = np.sum(np.dot(np.diag(mu - y_train), X_train), axis=0)/N\n",
    "print(g1)\n",
    "print(g2)\n",
    "assert np.allclose(g1, g2, atol=1e-2)\n",
    "\n",
    "H1 = hessian(NLL)(w_mle_sklearn, (X_train, y_train))\n",
    "S = np.diag(mu * (1-mu))\n",
    "H2 = np.dot(np.dot(X_train.T, S), X_train)/N\n",
    "print(H1)\n",
    "print(H2)\n",
    "assert np.allclose(H1, H2, atol=1e-2)\n"
   ]
  },
  {
   "cell_type": "code",
   "execution_count": 34,
   "metadata": {},
   "outputs": [
    {
     "name": "stdout",
     "output_type": "stream",
     "text": [
      "[0.002 0.    1.    0.012 0.002 0.    0.    0.979 0.732 0.    0.71  0.\n",
      " 0.    0.    0.    0.001 1.    0.    0.009 1.    0.    0.654 0.    1.\n",
      " 0.095 0.998 1.    1.    0.    0.    0.    0.    0.    0.    0.    0.998\n",
      " 0.    0.    0.    0.    0.999 0.    0.    0.    0.    0.    0.279 0.91\n",
      " 0.    0.999]\n",
      "[0.002 0.    1.    0.012 0.002 0.    0.    0.979 0.74  0.    0.706 0.\n",
      " 0.    0.    0.    0.001 1.    0.    0.009 1.    0.    0.65  0.    1.\n",
      " 0.094 0.998 1.    1.    0.    0.    0.    0.    0.    0.    0.    0.998\n",
      " 0.    0.    0.    0.    0.999 0.    0.    0.    0.    0.    0.281 0.909\n",
      " 0.    0.999]\n"
     ]
    }
   ],
   "source": [
    "# Finally, use BFGS batch optimizer to compute MLE, and compare to sklearn\n",
    "\n",
    "import scipy.optimize\n",
    "\n",
    "def training_loss(w):\n",
    "    return NLL(w, (X_train, y_train))\n",
    "\n",
    "def training_grad(w):\n",
    "    return grad(training_loss)(w)\n",
    "\n",
    "onp.random.seed(43)\n",
    "w_init = onp.random.randn(D)\n",
    "w_mle_scipy = scipy.optimize.minimize(training_loss, w_init, jac=training_grad, method='BFGS').x\n",
    "prob_scipy = predict_prob(w_mle_scipy, X_test)\n",
    "prob_sklearn = predict_prob(w_mle_sklearn, X_test)\n",
    "print(np.round(prob_scipy, 3))\n",
    "print(np.round(prob_sklearn, 3))\n",
    "\n",
    "assert np.allclose(prob_scipy, prob_sklearn, atol=1e-2)"
   ]
  },
  {
   "cell_type": "markdown",
   "metadata": {},
   "source": [
    "## Solving linear systems of equations <a class=\"anchor\" id=\"linear\"></a>"
   ]
  },
  {
   "cell_type": "markdown",
   "metadata": {},
   "source": [
    "### Square systems with unique solution <a class=\"anchor\" id=\"linear-systems-square\"></a>"
   ]
  },
  {
   "cell_type": "code",
   "execution_count": 79,
   "metadata": {},
   "outputs": [
    {
     "name": "stdout",
     "output_type": "stream",
     "text": [
      "[ 1. -2. -2.]\n",
      "[ 2.384e-07 -9.537e-07 -2.384e-07]\n"
     ]
    }
   ],
   "source": [
    "A = np.array([[3,2,-1], [2, -2, 4], [-1, 0.5, -1]])\n",
    "b = np.array([1, -2, 0])\n",
    "x  = jax.scipy.linalg.solve(A,b)\n",
    "print(x)\n",
    "print(np.dot(A, x) - b)"
   ]
  },
  {
   "cell_type": "code",
   "execution_count": 78,
   "metadata": {},
   "outputs": [
    {
     "name": "stdout",
     "output_type": "stream",
     "text": [
      "[[ 1.     0.     0.   ]\n",
      " [ 0.667  1.     0.   ]\n",
      " [-0.333 -0.35   1.   ]]\n",
      "[[ 3.     2.    -1.   ]\n",
      " [ 0.    -3.333  4.667]\n",
      " [ 0.     0.     0.3  ]]\n",
      "[ 1. -2. -2.]\n"
     ]
    },
    {
     "name": "stderr",
     "output_type": "stream",
     "text": [
      "/home/murphyk/miniconda3/lib/python3.7/site-packages/jax/scipy/linalg.py:179: UserWarning: scipy.linalg support is experimental and may cause silent failures or wrong outputs\n",
      "  warnings.warn(_EXPERIMENTAL_WARNING)\n"
     ]
    }
   ],
   "source": [
    "# Now use LU decomposition and backsubstitution.\n",
    "\n",
    "L, U = jax.scipy.linalg.lu(A, permute_l=True)\n",
    "print(L)\n",
    "print(U)\n",
    "y = jax.scipy.linalg.solve_triangular(L, b, lower=True)\n",
    "x = jax.scipy.linalg.solve_triangular(U, y, lower=False)\n",
    "print(x)"
   ]
  },
  {
   "cell_type": "markdown",
   "metadata": {},
   "source": [
    "### Underconstrained systems: least norm solution <a class=\"anchor\" id=\"linear-systems-under\"></a>\n",
    "\n",
    "We will compute the minimum norm solution."
   ]
  },
  {
   "cell_type": "code",
   "execution_count": 81,
   "metadata": {},
   "outputs": [
    {
     "name": "stdout",
     "output_type": "stream",
     "text": [
      "[ 1.162 -1.083 -1.26  -0.985]\n",
      "[ 0.000e+00  0.000e+00 -7.451e-08]\n",
      "2.2538505\n"
     ]
    }
   ],
   "source": [
    "onp.random.seed(42)\n",
    "m = 3\n",
    "n = 4\n",
    "A = onp.random.randn(m, n)\n",
    "x = onp.random.randn(n)\n",
    "b = np.dot(A, x)\n",
    "\n",
    "#x_least_norm = jax.scipy.linalg.lstsq(A, b)[0]\n",
    "x_least_norm = scipy.linalg.lstsq(A, b)[0]\n",
    "print(x_least_norm)\n",
    "print(np.dot(A, x_least_norm) - b)\n",
    "print(np.linalg.norm(x_least_norm, 2))\n"
   ]
  },
  {
   "cell_type": "markdown",
   "metadata": {},
   "source": [
    "If you look at the [source code for scipy.linalg.lstsq](https://github.com/scipy/scipy/blob/v0.19.0/scipy/linalg/basic.py#L892-L1058),\n",
    "you will see that it just a Python wrapper\n",
    "to some LAPACK code written in Fortran. LAPACK offers multiple methods for solving\n",
    "linear systems, including `gelsd` (default), `gelss` , and `gelsy`. The first two methods use SVD, the latter uses QR decomposition. \n",
    "\n",
    "A lot of numpy and scipy functions are just wrappers to legacy libraries,\n",
    "  written in Fortran or C++, since Python itself is too slow for\n",
    "  efficient numerical computing.\n",
    "  Confusingly, sometimes numpy and scipy offer different wrappers to the same\n",
    "  underlying LAPACK functions, but with different interfaces.\n",
    "  For example, as of 2018, `np.linalg.lstsq` and\n",
    "  `scipy.linalg.lstsq` have been modified to behave the same.\n",
    "  However,\n",
    "  `np.linalg.qr` and `scipy.linalg.qr`\n",
    "  have slightly different optional arguments and may give different\n",
    "  results.\n",
    "  \n",
    "Jax does not yet implement lstsq, but does implement some of the underlying methods \n",
    " [here](https://github.com/google/jax/blob/master/jax/scipy/linalg.py).\n",
    " Unlike the legacy code, this can run fast on GPUs and TPUs."
   ]
  },
  {
   "cell_type": "markdown",
   "metadata": {},
   "source": [
    "### Overconstrained systems: least squares solution <a class=\"anchor\" id=\"linear-systems-over\"></a>"
   ]
  },
  {
   "cell_type": "code",
   "execution_count": 82,
   "metadata": {},
   "outputs": [
    {
     "name": "stdout",
     "output_type": "stream",
     "text": [
      "method naive, norm 2.58738, residual 0.00000\n",
      "[ 0.242 -1.913 -1.725]\n",
      "\n",
      "\n",
      "method qr, norm 2.58738, residual 0.00000\n",
      "[ 0.242 -1.913 -1.725]\n",
      "\n",
      "\n"
     ]
    }
   ],
   "source": [
    "def naive_solve(A, b):\n",
    "    return jax.np.linalg.inv(A.T @ A) @ A.T @ b\n",
    "\n",
    "def qr_solve(A, b):\n",
    "    Q, R = np.linalg.qr(A) \n",
    "    Qb = np.dot(Q.T,b) \n",
    "    return jax.scipy.linalg.solve_triangular(R, Qb)\n",
    "\n",
    "def lstsq_solve(A, b):\n",
    "    return scipy.linalg.lstsq(A, b, rcond=None)[0]\n",
    "\n",
    "def pinv_solve(A, b):\n",
    "    return np.dot(np.linalg.pinv(A), b)\n",
    "    \n",
    "onp.random.seed(42)\n",
    "m = 4\n",
    "n = 3\n",
    "A = onp.random.randn(m, n)\n",
    "x = onp.random.randn(n)\n",
    "b = np.dot(A, x)\n",
    "\n",
    "\n",
    "methods = list()\n",
    "solns = list()\n",
    "    \n",
    "methods.append('naive')\n",
    "solns.append(naive_solve(A, b))\n",
    "\n",
    "#methods.append('pinv')\n",
    "#solns.append(pinv_solve(A,b)) # pinv not yet implemented by jax\n",
    "\n",
    "#methods.append('lstsq')\n",
    "#solns.append(lstsq_solve(A, b)) # lstsq not yet implemented by jax\n",
    "\n",
    "methods.append('qr')\n",
    "solns.append(qr_solve(A, b))\n",
    "\n",
    "\n",
    "for (method, soln) in zip(methods, solns):\n",
    "    residual = b -  np.dot(A, soln)\n",
    "    print('method {}, norm {:0.5f}, residual {:0.5f}'.format(method, np.linalg.norm(soln), np.linalg.norm(residual)))\n",
    "    print(soln.T)\n",
    "    print('\\n')"
   ]
  },
  {
   "cell_type": "code",
   "execution_count": null,
   "metadata": {},
   "outputs": [],
   "source": []
  }
 ],
 "metadata": {
  "kernelspec": {
   "display_name": "Python 3",
   "language": "python",
   "name": "python3"
  },
  "language_info": {
   "codemirror_mode": {
    "name": "ipython",
    "version": 3
   },
   "file_extension": ".py",
   "mimetype": "text/x-python",
   "name": "python",
   "nbconvert_exporter": "python",
   "pygments_lexer": "ipython3",
   "version": "3.7.3"
  }
 },
 "nbformat": 4,
 "nbformat_minor": 2
}
