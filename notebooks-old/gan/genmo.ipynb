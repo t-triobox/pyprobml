{
  "nbformat": 4,
  "nbformat_minor": 0,
  "metadata": {
    "colab": {
      "name": "genmo.ipynb",
      "provenance": [],
      "include_colab_link": true
    },
    "kernelspec": {
      "name": "python3",
      "display_name": "Python 3"
    }
  },
  "cells": [
    {
      "cell_type": "markdown",
      "metadata": {
        "id": "view-in-github",
        "colab_type": "text"
      },
      "source": [
        "<a href=\"https://colab.research.google.com/github/probml/pyprobml/blob/master/notebooks/genmo/genmo.ipynb\" target=\"_parent\"><img src=\"https://colab.research.google.com/assets/colab-badge.svg\" alt=\"Open In Colab\"/></a>"
      ]
    },
    {
      "cell_type": "markdown",
      "metadata": {
        "id": "-vGa5N8BTGW1",
        "colab_type": "text"
      },
      "source": [
        "# Other deep generative models\n",
        "\n",
        "In this notebook, we consider various kinds of generative models (beyond [latent factor models](https://colab.sandbox.google.com/github/probml/pyprobml/blob/master/notebooks/lfm/lfm.ipynb)).\n",
        "\n",
        "(* denotes official TF2 tutorial, not part of the pyprobml repo.)\n",
        "\n",
        "* GANs\n",
        "  * [DCGAN on  Fashion-MNIST](https://colab.research.google.com/github/probml/pyprobml/blob/master/notebooks/gan/dcgan_fashion_tf.ipynb)\n",
        "  * [DCGAN on MNIST *](https://www.tensorflow.org/tutorials/generative/dcgan)\n",
        "  * [Pix2Pix *](https://www.tensorflow.org/tutorials/generative/pix2pix)\n",
        "  * [CycleGAN *](https://www.tensorflow.org/tutorials/generative/cyclegan)\n",
        "\n",
        "* Energy based models\n",
        "  * [Deep dream *](https://www.tensorflow.org/tutorials/generative/deepdream)\n",
        "  * [Neural Style Transfer *](https://www.tensorflow.org/tutorials/generative/style_transfer)\n"
      ]
    },
    {
      "cell_type": "code",
      "metadata": {
        "id": "wGWrIj7Rj5Qp",
        "colab_type": "code",
        "colab": {}
      },
      "source": [
        ""
      ],
      "execution_count": 0,
      "outputs": []
    }
  ]
}