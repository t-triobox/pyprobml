{
  "nbformat": 4,
  "nbformat_minor": 0,
  "metadata": {
    "colab": {
      "name": "pyprobml-setup.ipynb",
      "version": "0.3.2",
      "provenance": [],
      "include_colab_link": true
    },
    "kernelspec": {
      "name": "python3",
      "display_name": "Python 3"
    },
    "accelerator": "GPU"
  },
  "cells": [
    {
      "cell_type": "markdown",
      "metadata": {
        "id": "view-in-github",
        "colab_type": "text"
      },
      "source": [
        "<a href=\"https://colab.research.google.com/github/probml/pyprobml/blob/master/notebooks/pyprobml_setup.ipynb\" target=\"_parent\"><img src=\"https://colab.research.google.com/assets/colab-badge.svg\" alt=\"Open In Colab\"/></a>"
      ]
    },
    {
      "cell_type": "markdown",
      "metadata": {
        "id": "24_OboyL7tqe",
        "colab_type": "text"
      },
      "source": [
        "# Installation of the python probabilistic machine learning codebase\n",
        "This notebook imports all the libraries we will need. Other notebooks may only use a subset of these.\n",
        "\n",
        "**Make sure you select 'GPU' from the 'Runtime' tab at the top of this page.**"
      ]
    },
    {
      "cell_type": "code",
      "metadata": {
        "id": "NrwPtBtD7vuh",
        "colab_type": "code",
        "outputId": "de77cdba-b050-4c0d-d587-75334cb9a642",
        "colab": {
          "base_uri": "https://localhost:8080/",
          "height": 291
        }
      },
      "source": [
        "# Standard Python libraries\n",
        "from __future__ import absolute_import, division, print_function, unicode_literals\n",
        "\n",
        "import os\n",
        "import time\n",
        "import numpy as np\n",
        "np.set_printoptions(precision=3)\n",
        "import glob\n",
        "import matplotlib.pyplot as plt\n",
        "import PIL\n",
        "import imageio\n",
        "\n",
        "from IPython import display\n",
        "\n",
        "import sklearn\n",
        "\n",
        "import seaborn as sns;\n",
        "sns.set(style=\"ticks\", color_codes=True)\n",
        "\n",
        "import pandas as pd\n",
        "pd.set_option('precision', 2) # 2 decimal places\n",
        "pd.set_option('display.max_rows', 20)\n",
        "pd.set_option('display.max_columns', 30)\n",
        "pd.set_option('display.width', 100) # wide windows\n",
        "\n",
        "# Check we can plot stuff\n",
        "plt.figure()\n",
        "plt.plot(range(10))"
      ],
      "execution_count": 0,
      "outputs": [
        {
          "output_type": "execute_result",
          "data": {
            "text/plain": [
              "[<matplotlib.lines.Line2D at 0x7fe02ba82898>]"
            ]
          },
          "metadata": {
            "tags": []
          },
          "execution_count": 5
        },
        {
          "output_type": "display_data",
          "data": {
            "image/png": "[encoded data removed]",
            "text/plain": [
              "<Figure size 432x288 with 1 Axes>"
            ]
          },
          "metadata": {
            "tags": []
          }
        }
      ]
    },
    {
      "cell_type": "code",
      "metadata": {
        "id": "GaRuSUR37zTl",
        "colab_type": "code",
        "outputId": "46955662-c876-4e4d-f66b-2c18a5fa07c2",
        "colab": {
          "base_uri": "https://localhost:8080/",
          "height": 69
        }
      },
      "source": [
        "# Tensorflow 2.0\n",
        "try:\n",
        "  # %tensorflow_version only exists in Colab.\n",
        "  %tensorflow_version 2.x\n",
        "except Exception:\n",
        "  pass\n",
        "import tensorflow as tf\n",
        "\n",
        "from tensorflow import keras\n",
        "import tensorflow_probability as tfp\n",
        "\n",
        "print(\"tf version {}\".format(tf.__version__))\n",
        "if tf.test.is_gpu_available():\n",
        "    print(tf.test.gpu_device_name())\n",
        "else:\n",
        "    print(\"TF cannot find GPU\")"
      ],
      "execution_count": 0,
      "outputs": [
        {
          "output_type": "stream",
          "text": [
            "TensorFlow 2.x selected.\n",
            "tf version 2.0.0-beta1\n",
            "/device:GPU:0\n"
          ],
          "name": "stdout"
        }
      ]
    },
    {
      "cell_type": "code",
      "metadata": {
        "id": "Oi4Zmzla73A_",
        "colab_type": "code",
        "outputId": "5126cee5-1051-42b6-ed77-21726125c5c5",
        "colab": {
          "base_uri": "https://localhost:8080/",
          "height": 52
        }
      },
      "source": [
        "# Pytorch\n",
        "import torch\n",
        "import torchvision\n",
        "print(\"torch version {}\".format(torch.__version__))\n",
        "if torch.cuda.is_available():\n",
        "    print(torch.cuda.get_device_name(0))\n",
        "else:\n",
        "    print(\"Torch cannot find GPU\")"
      ],
      "execution_count": 0,
      "outputs": [
        {
          "output_type": "stream",
          "text": [
            "torch version 1.1.0\n",
            "Tesla T4\n"
          ],
          "name": "stdout"
        }
      ]
    },
    {
      "cell_type": "code",
      "metadata": {
        "id": "8JiSxcJJ79Bv",
        "colab_type": "code",
        "outputId": "1ea18767-040b-48f9-f119-20eb30d9d8a7",
        "colab": {
          "base_uri": "https://localhost:8080/",
          "height": 122
        }
      },
      "source": [
        "# JAX (https://github.com/google/jax)\n",
        "!pip install --upgrade -q https://storage.googleapis.com/jax-releases/cuda$(echo $CUDA_VERSION | sed -e 's/\\.//' -e 's/\\..*//')/jaxlib-$(pip search jaxlib | grep -oP '[0-9\\.]+' | head -n 1)-cp36-none-linux_x86_64.whl\n",
        "!pip install --upgrade -q jax\n",
        "\n",
        "# Check we can use it\n",
        "import jax.numpy as jnp\n",
        "A = jnp.zeros((3,3))"
      ],
      "execution_count": 0,
      "outputs": [
        {
          "output_type": "stream",
          "text": [
            "\u001b[K     |████████████████████████████████| 47.4MB 1.2MB/s \n",
            "\u001b[K     |████████████████████████████████| 215kB 3.1MB/s \n",
            "\u001b[K     |████████████████████████████████| 61kB 31.9MB/s \n",
            "\u001b[?25h  Building wheel for jax (setup.py) ... \u001b[?25l\u001b[?25hdone\n",
            "  Building wheel for opt-einsum (setup.py) ... \u001b[?25l\u001b[?25hdone\n",
            "  Building wheel for fastcache (setup.py) ... \u001b[?25l\u001b[?25hdone\n"
          ],
          "name": "stdout"
        }
      ]
    },
    {
      "cell_type": "code",
      "metadata": {
        "id": "uVZWqzdW7_ZG",
        "colab_type": "code",
        "outputId": "95b58136-52cb-4085-e2ec-b80d286584d3",
        "colab": {
          "base_uri": "https://localhost:8080/",
          "height": 262
        }
      },
      "source": [
        "# PyProbML files (data, scripts, etc)\n",
        "!rm -rf pyprobml # Run this first if the pyprobml directory already exists\n",
        "!git clone https://github.com/probml/pyprobml.git\n",
        "\n",
        "# Check we can access scripts and any functions they define\n",
        "os.chdir('pyprobml/scripts')\n",
        "import pyprobml_utils as pml\n",
        "pml.pyprobml_test()\n",
        "\n",
        "\n",
        "# Check we can read a datafile (we assume we have chdir to inside scripts dir)\n",
        "!ls '../data'\n",
        "datadir = '../data'\n",
        "import re\n",
        "fname = os.path.join(datadir, 'timemachine.txt')\n",
        "with open(fname, 'r') as f:\n",
        "    lines = f.readlines()\n",
        "    sentences = [re.sub('[^A-Za-z]+', ' ', st).lower().split()\n",
        "                   for st in lines]\n",
        "sentences[:2]"
      ],
      "execution_count": 0,
      "outputs": [
        {
          "output_type": "stream",
          "text": [
            "Cloning into 'pyprobml'...\n",
            "remote: Enumerating objects: 294, done.\u001b[K\n",
            "remote: Counting objects:   0% (1/294)\u001b[K\rremote: Counting objects:   1% (3/294)\u001b[K\rremote: Counting objects:   2% (6/294)\u001b[K\rremote: Counting objects:   3% (9/294)\u001b[K\rremote: Counting objects:   4% (12/294)\u001b[K\rremote: Counting objects:   5% (15/294)\u001b[K\rremote: Counting objects:   6% (18/294)\u001b[K\rremote: Counting objects:   7% (21/294)\u001b[K\rremote: Counting objects:   8% (24/294)\u001b[K\rremote: Counting objects:   9% (27/294)\u001b[K\rremote: Counting objects:  10% (30/294)\u001b[K\rremote: Counting objects:  11% (33/294)\u001b[K\rremote: Counting objects:  12% (36/294)\u001b[K\rremote: Counting objects:  13% (39/294)\u001b[K\rremote: Counting objects:  14% (42/294)\u001b[K\rremote: Counting objects:  15% (45/294)\u001b[K\rremote: Counting objects:  16% (48/294)\u001b[K\rremote: Counting objects:  17% (50/294)\u001b[K\rremote: Counting objects:  18% (53/294)\u001b[K\rremote: Counting objects:  19% (56/294)\u001b[K\rremote: Counting objects:  20% (59/294)\u001b[K\rremote: Counting objects:  21% (62/294)\u001b[K\rremote: Counting objects:  22% (65/294)\u001b[K\rremote: Counting objects:  23% (68/294)\u001b[K\rremote: Counting objects:  24% (71/294)\u001b[K\rremote: Counting objects:  25% (74/294)\u001b[K\rremote: Counting objects:  26% (77/294)\u001b[K\rremote: Counting objects:  27% (80/294)\u001b[K\rremote: Counting objects:  28% (83/294)\u001b[K\rremote: Counting objects:  29% (86/294)\u001b[K\rremote: Counting objects:  30% (89/294)\u001b[K\rremote: Counting objects:  31% (92/294)\u001b[K\rremote: Counting objects:  32% (95/294)\u001b[K\rremote: Counting objects:  33% (98/294)\u001b[K\rremote: Counting objects:  34% (100/294)\u001b[K\rremote: Counting objects:  35% (103/294)\u001b[K\rremote: Counting objects:  36% (106/294)\u001b[K\rremote: Counting objects:  37% (109/294)\u001b[K\rremote: Counting objects:  38% (112/294)\u001b[K\rremote: Counting objects:  39% (115/294)\u001b[K\rremote: Counting objects:  40% (118/294)\u001b[K\rremote: Counting objects:  41% (121/294)\u001b[K\rremote: Counting objects:  42% (124/294)\u001b[K\rremote: Counting objects:  43% (127/294)\u001b[K\rremote: Counting objects:  44% (130/294)\u001b[K\rremote: Counting objects:  45% (133/294)\u001b[K\rremote: Counting objects:  46% (136/294)\u001b[K\rremote: Counting objects:  47% (139/294)\u001b[K\rremote: Counting objects:  48% (142/294)\u001b[K\rremote: Counting objects:  49% (145/294)\u001b[K\rremote: Counting objects:  50% (147/294)\u001b[K\rremote: Counting objects:  51% (150/294)\u001b[K\rremote: Counting objects:  52% (153/294)\u001b[K\rremote: Counting objects:  53% (156/294)\u001b[K\rremote: Counting objects:  54% (159/294)\u001b[K\rremote: Counting objects:  55% (162/294)\u001b[K\rremote: Counting objects:  56% (165/294)\u001b[K\rremote: Counting objects:  57% (168/294)\u001b[K\rremote: Counting objects:  58% (171/294)\u001b[K\rremote: Counting objects:  59% (174/294)\u001b[K\rremote: Counting objects:  60% (177/294)\u001b[K\rremote: Counting objects:  61% (180/294)\u001b[K\rremote: Counting objects:  62% (183/294)\u001b[K\rremote: Counting objects:  63% (186/294)\u001b[K\rremote: Counting objects:  64% (189/294)\u001b[K\rremote: Counting objects:  65% (192/294)\u001b[K\rremote: Counting objects:  66% (195/294)\u001b[K\rremote: Counting objects:  67% (197/294)\u001b[K\rremote: Counting objects:  68% (200/294)\u001b[K\rremote: Counting objects:  69% (203/294)\u001b[K\rremote: Counting objects:  70% (206/294)\u001b[K\rremote: Counting objects:  71% (209/294)\u001b[K\rremote: Counting objects:  72% (212/294)\u001b[K\rremote: Counting objects:  73% (215/294)\u001b[K\rremote: Counting objects:  74% (218/294)\u001b[K\rremote: Counting objects:  75% (221/294)\u001b[K\rremote: Counting objects:  76% (224/294)\u001b[K\rremote: Counting objects:  77% (227/294)\u001b[K\rremote: Counting objects:  78% (230/294)\u001b[K\rremote: Counting objects:  79% (233/294)\u001b[K\rremote: Counting objects:  80% (236/294)\u001b[K\rremote: Counting objects:  81% (239/294)\u001b[K\rremote: Counting objects:  82% (242/294)\u001b[K\rremote: Counting objects:  83% (245/294)\u001b[K\rremote: Counting objects:  84% (247/294)\u001b[K\rremote: Counting objects:  85% (250/294)\u001b[K\rremote: Counting objects:  86% (253/294)\u001b[K\rremote: Counting objects:  87% (256/294)\u001b[K\rremote: Counting objects:  88% (259/294)\u001b[K\rremote: Counting objects:  89% (262/294)\u001b[K\rremote: Counting objects:  90% (265/294)\u001b[K\rremote: Counting objects:  91% (268/294)\u001b[K\rremote: Counting objects:  92% (271/294)\u001b[K\rremote: Counting objects:  93% (274/294)\u001b[K\rremote: Counting objects:  94% (277/294)\u001b[K\rremote: Counting objects:  95% (280/294)\u001b[K\rremote: Counting objects:  96% (283/294)\u001b[K\rremote: Counting objects:  97% (286/294)\u001b[K\rremote: Counting objects:  98% (289/294)\u001b[K\rremote: Counting objects:  99% (292/294)\u001b[K\rremote: Counting objects: 100% (294/294)\u001b[K\rremote: Counting objects: 100% (294/294), done.\u001b[K\n",
            "remote: Compressing objects: 100% (225/225), done.\u001b[K\n",
            "remote: Total 2173 (delta 157), reused 155 (delta 63), pack-reused 1879\u001b[K\n",
            "Receiving objects: 100% (2173/2173), 49.66 MiB | 41.79 MiB/s, done.\n",
            "Resolving deltas: 100% (1040/1040), done.\n",
            "welcome to python probabilistic ML library\n",
            "20news_w100.mat        goog.npy       mpg.csv\t       timemachine.txt\n",
            "bread.jpg\t       heightWeight   prostate\t       XwindowsDocData.mat\n",
            "clown.png\t       knnClassify3c  sachsCtsHTF.txt\n",
            "collegeAdmissions.csv  mnistAll.mat   sat\n",
            "CRX_REF_R1_8mers.txt   moteData       SP500.csv\n"
          ],
          "name": "stdout"
        },
        {
          "output_type": "execute_result",
          "data": {
            "text/plain": [
              "[['the', 'time', 'machine', 'by', 'h', 'g', 'wells'], []]"
            ]
          },
          "metadata": {
            "tags": []
          },
          "execution_count": 6
        }
      ]
    },
    {
      "cell_type": "code",
      "metadata": {
        "id": "USu9zps88Gzd",
        "colab_type": "code",
        "colab": {}
      },
      "source": [
        "# We make some wrappers around random number generation\n",
        "# so it works even if we switch from numpy to JAX\n",
        "import numpy as onp # original numpy\n",
        "\n",
        "def set_seed(seed):\n",
        "    onp.random.seed(seed)\n",
        "    \n",
        "def randn(*args):\n",
        "    return onp.random.randn(*args)\n",
        "        \n",
        "def randperm(args):\n",
        "    return onp.random.permutation(args)"
      ],
      "execution_count": 0,
      "outputs": []
    },
    {
      "cell_type": "markdown",
      "metadata": {
        "id": "FAK141XvCg0f",
        "colab_type": "text"
      },
      "source": [
        ""
      ]
    }
  ]
}