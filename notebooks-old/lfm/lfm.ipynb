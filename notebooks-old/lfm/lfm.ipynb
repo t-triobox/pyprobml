{
  "nbformat": 4,
  "nbformat_minor": 0,
  "metadata": {
    "colab": {
      "name": "lvm.ipynb",
      "provenance": [],
      "collapsed_sections": [],
      "include_colab_link": true
    },
    "kernelspec": {
      "name": "python3",
      "display_name": "Python 3"
    }
  },
  "cells": [
    {
      "cell_type": "markdown",
      "metadata": {
        "id": "view-in-github",
        "colab_type": "text"
      },
      "source": [
        "<a href=\"https://colab.research.google.com/github/probml/pyprobml/blob/master/notebooks/lfm/lfm.ipynb\" target=\"_parent\"><img src=\"https://colab.research.google.com/assets/colab-badge.svg\" alt=\"Open In Colab\"/></a>"
      ]
    },
    {
      "cell_type": "markdown",
      "metadata": {
        "id": "SCN7XKGkX3Th",
        "colab_type": "text"
      },
      "source": [
        "# Latent factor models (LFM)\n",
        "\n",
        "This notebook contains examples of various kinds of latent factor models.\n",
        "\n",
        "(* denotes official TF2 tutorial, not part of pyprobml repo.)\n",
        "\n",
        "* PCA\n",
        "  * [Medium post (with TF2 code) by Mukesh Mithrakumar](https://dev.to/mmithrakumar/principal-components-analysis-with-tensorflow-2-0-21hl)\n",
        "  * [Sklearn PCA on iris data](https://scikit-learn.org/stable/auto_examples/decomposition/plot_pca_iris.html)\n",
        "* Autoencoders\n",
        "  * [Fashion](https://colab.research.google.com/github/probml/pyprobml/blob/master/notebooks/lfm/ae_fashion_tf.ipynb)\n",
        "  * [CelebA](https://colab.research.google.com/github/probml/pyprobml/blob/master/notebooks/lfm/ae_vae_celeba_tf.ipynb)\n",
        "  * [MNIST 2d](https://colab.research.google.com/github/probml/pyprobml/blob/master/notebooks/lfm/ae_mnist_2d_tf.ipynb)\n",
        "* VAE\n",
        "  * [Fashion](https://colab.research.google.com/github/probml/pyprobml/blob/master/notebooks/lfm/vae_fashion_tf.ipynb)\n",
        "  * [CelebA](https://colab.research.google.com/github/probml/pyprobml/blob/master/notebooks/lfm/vae_celeba_tf.ipynb)\n",
        "  * [MNIST](https://colab.research.google.com/github/probml/pyprobml/blob/master/notebooks/lfm/vae_mnist_2d_tf.ipynb)\n",
        "  * [MNIST *](https://www.tensorflow.org/tutorials/generative/cvae)\n",
        "\n"
      ]
    },
    {
      "cell_type": "code",
      "metadata": {
        "id": "_D0mspMxY_7z",
        "colab_type": "code",
        "colab": {}
      },
      "source": [
        ""
      ],
      "execution_count": 0,
      "outputs": []
    }
  ]
}