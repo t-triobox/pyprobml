{
  "nbformat": 4,
  "nbformat_minor": 0,
  "metadata": {
    "colab": {
      "name": "dnn.ipynb",
      "provenance": [],
      "collapsed_sections": [],
      "include_colab_link": true
    },
    "kernelspec": {
      "name": "python3",
      "display_name": "Python 3"
    },
    "accelerator": "GPU"
  },
  "cells": [
    {
      "cell_type": "markdown",
      "metadata": {
        "id": "view-in-github",
        "colab_type": "text"
      },
      "source": [
        "<a href=\"https://colab.research.google.com/github/probml/pyprobml/blob/master/notebooks/dnn2/dnn2.ipynb\" target=\"_parent\"><img src=\"https://colab.research.google.com/assets/colab-badge.svg\" alt=\"Open In Colab\"/></a>"
      ]
    },
    {
      "cell_type": "markdown",
      "metadata": {
        "id": "YMlYEa1DlIdI",
        "colab_type": "text"
      },
      "source": [
        "# Deep neural networks II\n",
        "\n"
      ]
    },
    {
      "cell_type": "markdown",
      "metadata": {
        "id": "lGmMbzzh1_uw",
        "colab_type": "text"
      },
      "source": [
        "# Recurrent neural networks (RNN)\n",
        "\n",
        "In this section, we give some examples of RNNs using TF2.\n",
        "\n",
        " (* denotes official TF tutorials, which are not part of the pyprobml repo.)\n",
        "\n",
        "* [IMDB movie  review sentiment classification *](https://www.tensorflow.org/tutorials/text/text_classification_rnn)\n",
        "* [Character level generation for Shakespeare *](https://www.tensorflow.org/tutorials/text/text_generation)\n",
        "* [Time series forecasting *](https://www.tensorflow.org/tutorials/structured_data/time_series)\n",
        "* [Image captioning *](https://www.tensorflow.org/tutorials/text/image_captioning)\n",
        "* [Neural machine translation using RNN with attention *](https://www.tensorflow.org/tutorials/text/nmt_with_attention)"
      ]
    },
    {
      "cell_type": "markdown",
      "metadata": {
        "id": "DA3WDCMA4Yq6",
        "colab_type": "text"
      },
      "source": [
        "# Transformers\n",
        "\n",
        "In this section, we give some examples of transformers using TF2.\n",
        "\n",
        " (* denotes official TF tutorials, which are not part of the pyprobml repo.)\n",
        "\n",
        " * [Portugese to English translation *](https://www.tensorflow.org/tutorials/text/transformer)"
      ]
    },
    {
      "cell_type": "markdown",
      "metadata": {
        "id": "Ay9xbk-Q5eCU",
        "colab_type": "text"
      },
      "source": [
        "# Bayesian neural nets\n",
        "\n",
        "\n",
        "*  [SVI for nonlinear regression in 1d](https://colab.research.google.com/github/probml/pyprobml/blob/master/notebooks/dnn2/svi_nonlinear_regression_1d_tf.ipynb) \n"
      ]
    },
    {
      "cell_type": "code",
      "metadata": {
        "id": "5mVEwticwTAC",
        "colab_type": "code",
        "colab": {}
      },
      "source": [
        ""
      ],
      "execution_count": 0,
      "outputs": []
    }
  ]
}