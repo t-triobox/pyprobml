{
  "nbformat": 4,
  "nbformat_minor": 0,
  "metadata": {
    "colab": {
      "name": "python_for_ml.ipynb",
      "version": "0.3.2",
      "provenance": [],
      "include_colab_link": true
    },
    "kernelspec": {
      "name": "python3",
      "display_name": "Python 3"
    }
  },
  "cells": [
    {
      "cell_type": "markdown",
      "metadata": {
        "id": "view-in-github",
        "colab_type": "text"
      },
      "source": [
        "<a href=\"https://colab.research.google.com/github/probml/pyprobml/blob/master/notebooks/intro/python_for_ml.ipynb\" target=\"_parent\"><img src=\"https://colab.research.google.com/assets/colab-badge.svg\" alt=\"Open In Colab\"/></a>"
      ]
    },
    {
      "cell_type": "markdown",
      "metadata": {
        "id": "reZK874Okl0p",
        "colab_type": "text"
      },
      "source": [
        "## The Python ML ecosystem <a class=\"anchor\" id=\"python\"></a>\n",
        "\n",
        "In this book, we will use Python 3.\n",
        "For a good introduction, see e.g., the free books [Whirlwind tour of Python](https://github.com/jakevdp/WhirlwindTourOfPython)  by Jake Vanderplas or [Dive into Python 3](https://www.diveinto.org/python3/table-of-contents.html) by Mark Pilgrim.\n",
        "\n",
        "\n",
        "This document is an example of a\n",
        " <a href=\"https://jupyter.org/\">Jupyter notebook</a>,\n",
        "which mixes code and results.\n",
        "When developing software, it is often better to use an \n",
        " IDE (interactive development environment),\n",
        " which keeps the code in separate files.\n",
        "I recommend Spyder\n",
        "<a href=\"https://www.spyder-ide.org\">Spyder</a>,\n",
        "although many people use\n",
        "<a href=\"https://github.com/jupyterlab/jupyterlab\">JupyterLab</a>\n",
        "for a browser-based solution.\n",
        "\n",
        "We will leverage many standard libraries from Python's \"data science stack\", listed in the table below.\n",
        "For a good introduction to these, see e.g., the free book [Python Datascience Handbook](https://github.com/jakevdp/PythonDataScienceHandbook) by Jake Vanderplas,\n",
        "or the class [Computational Statistics in Python](http://people.duke.edu/~ccc14/sta-663-2019/)  by Cliburn Chen at Duke University. For an excellent book on [scikit-learn](https://scikit-learn.org/stable/), see [Hands-on Machine Learning with Scikit-Learn, Keras and TensorFlow v2](https://github.com/ageron/handson-ml2) by Aurelion Geron.\n",
        "\n",
        "<table align=\"left\">\n",
        "<tr>\n",
        "<th style=\"text-align:left\">Name</th>\n",
        "<th  style=\"text-align:left\">Functionality</th>\n",
        "<tr>\n",
        "    <td  style=\"text-align:left\"> <a href=\"http://www.numpy.org\">Numpy</a>\n",
        "<td  style=\"text-align:left\"> Vector and matrix computations\n",
        "<tr>\n",
        "    <td style=\"text-align:left\"> <a href=\"http://www.scipy.org\">Scipy</a>\n",
        "<td style=\"text-align:left\"> Various scientific / math / stats / optimization functions    \n",
        "<tr>\n",
        "    <td style=\"text-align:left\"> <a href=\"http://matplotlib.org\">Matplotlib</a>\n",
        "<td style=\"text-align:left\"> Plotting\n",
        "<tr>\n",
        "    <td style=\"text-align:left\"> <a href=\"https://seaborn.pydata.org/\">Seaborn</a>\n",
        "        <td style=\"text-align:left\"> Extension of Matplotlib\n",
        "<tr>\n",
        "<td style=\"text-align:left\"> <a href=\"http://pandas.pydata.org\">Pandas</a>\n",
        "<td style=\"text-align:left\"> Manipulating tabular data and time series\n",
        "<tr>\n",
        "    <td style=\"text-align:left\"> <a href=\"http://scikit-learn.org\">Scikit-learn</a>\n",
        "    <td style=\"text-align:left\"> Implements many \"Classical\" ML methods </td>\n",
        "</tr>\n",
        "</table>\n",
        "\n",
        "\n"
      ]
    },
    {
      "cell_type": "code",
      "metadata": {
        "id": "Es0slJEUkqSc",
        "colab_type": "code",
        "colab": {}
      },
      "source": [
        ""
      ],
      "execution_count": 0,
      "outputs": []
    }
  ]
}