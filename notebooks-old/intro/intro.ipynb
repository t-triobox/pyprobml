{
  "nbformat": 4,
  "nbformat_minor": 0,
  "metadata": {
    "colab": {
      "name": "intro.ipynb",
      "provenance": [],
      "collapsed_sections": [],
      "include_colab_link": true
    },
    "kernelspec": {
      "name": "python3",
      "display_name": "Python 3"
    }
  },
  "cells": [
    {
      "cell_type": "markdown",
      "metadata": {
        "id": "view-in-github",
        "colab_type": "text"
      },
      "source": [
        "<a href=\"https://colab.research.google.com/github/probml/pyprobml/blob/master/notebooks/intro/intro.ipynb\" target=\"_parent\"><img src=\"https://colab.research.google.com/assets/colab-badge.svg\" alt=\"Open In Colab\"/></a>"
      ]
    },
    {
      "cell_type": "markdown",
      "metadata": {
        "colab_type": "text",
        "id": "EIQpkuljsSHJ"
      },
      "source": [
        "# Introduction to machine learning\n",
        "\n",
        "* [The Python ecosystem for ML](#EDA)\n",
        "* [Exploratory data analysis](https://colab.research.google.com/github/probml/pyprobml/blob/master/notebooks/intro/data.ipynb) \n",
        "* [Logistic regression](https://colab.research.google.com/github/probml/pyprobml/blob/master/notebooks/intro/logreg.ipynb) \n",
        "* [Linear regression](https://colab.research.google.com/github/probml/pyprobml/blob/master/notebooks/intro/linreg.ipynb) \n",
        "* [Deep neural networks](https://colab.research.google.com/github/probml/pyprobml/blob/master/notebooks/dnn/dnn.ipynb) \n",
        "* [Unsupervised learning](https://colab.research.google.com/github/probml/pyprobml/blob/master/notebooks/intro/unsuper.ipynb) \n"
      ]
    },
    {
      "cell_type": "markdown",
      "metadata": {
        "id": "d9fOLa_assyA",
        "colab_type": "text"
      },
      "source": [
        "# The Python ML ecosystem <a class=\"anchor\" id=\"python\"></a>\n",
        "\n",
        "In this book, we will use Python 3.\n",
        "For a good introduction, see e.g., the free books [Whirlwind tour of Python](https://github.com/jakevdp/WhirlwindTourOfPython)  by Jake Vanderplas or [Dive into Python 3](https://www.diveinto.org/python3/table-of-contents.html) by Mark Pilgrim.\n",
        "\n",
        "\n",
        "This document is an example of a\n",
        " <a href=\"https://jupyter.org/\">Jupyter notebook</a>,\n",
        "which mixes code and results.\n",
        "When developing larger software projects, it is often better to use an \n",
        " IDE (interactive development environment),\n",
        " which keeps the code in separate files.\n",
        "I recommend\n",
        "<a href=\"https://www.spyder-ide.org\">Spyder</a>,\n",
        "although many people use\n",
        "<a href=\"https://github.com/jupyterlab/jupyterlab\">JupyterLab</a>\n",
        "for a browser-based solution.\n",
        "\n"
      ]
    },
    {
      "cell_type": "markdown",
      "metadata": {
        "id": "ZZ-nS0HXuXeX",
        "colab_type": "text"
      },
      "source": [
        "## Software for datascience and ML\n",
        "\n",
        "We will leverage many standard libraries from Python's \"data science stack\", listed in the table below.\n",
        "For a good introduction to these, see e.g., the free book [Python Datascience Handbook](https://github.com/jakevdp/PythonDataScienceHandbook) by Jake Vanderplas,\n",
        "or the class [Computational Statistics in Python](http://people.duke.edu/~ccc14/sta-663-2019/)  by Cliburn Chen at Duke University. For an excellent book on [scikit-learn](https://scikit-learn.org/stable/), see [Hands-on Machine Learning with Scikit-Learn, Keras and TensorFlow v2](https://github.com/ageron/handson-ml2) by Aurelion Geron.\n",
        "\n",
        "<table align=\"left\">\n",
        "<tr>\n",
        "<th style=\"text-align:left\">Name</th>\n",
        "<th  style=\"text-align:left\">Functionality</th>\n",
        "<tr>\n",
        "    <td  style=\"text-align:left\"> <a href=\"http://www.numpy.org\">Numpy</a>\n",
        "<td  style=\"text-align:left\"> Vector and matrix computations\n",
        "<tr>\n",
        "    <td style=\"text-align:left\"> <a href=\"http://www.scipy.org\">Scipy</a>\n",
        "<td style=\"text-align:left\"> Various scientific / math / stats / optimization functions    \n",
        "<tr>\n",
        "    <td style=\"text-align:left\"> <a href=\"http://matplotlib.org\">Matplotlib</a>\n",
        "<td style=\"text-align:left\"> Plotting\n",
        "<tr>\n",
        "    <td style=\"text-align:left\"> <a href=\"https://seaborn.pydata.org/\">Seaborn</a>\n",
        "        <td style=\"text-align:left\"> Extension of Matplotlib\n",
        "<tr>\n",
        "<td style=\"text-align:left\"> <a href=\"http://pandas.pydata.org\">Pandas</a>\n",
        "<td style=\"text-align:left\"> Manipulating tabular data and time series\n",
        "<tr>\n",
        "    <td style=\"text-align:left\"> <a href=\"http://scikit-learn.org\">Scikit-learn</a>\n",
        "    <td style=\"text-align:left\"> Implements many \"Classical\" ML methods </td>\n",
        "</tr>\n",
        "</table>\n",
        "\n"
      ]
    },
    {
      "cell_type": "markdown",
      "metadata": {
        "id": "j2DUcZEksVSj",
        "colab_type": "text"
      },
      "source": [
        "## Software for deep learning <a class=\"anchor\" id=\"DL\"></a>\n",
        "\n",
        "\n",
        "Deep learning is about composing differentiable functions into more complex functions, represented as a computation graph, and then using automatic differentiation (\"autograd\") to compute gradients, which we can pass to an optimizer, to fit the function to data. This is sometimes called \"differentiable programming\".\n",
        "\n",
        "There are several libraries that can execute such computation graphs on hardware accelerators, such as GPUs. (Some libraries also support distributed computation, but we will not need use this feature in this book.) We list a few popular libraries below.\n",
        "\n",
        "\n",
        "\n",
        "<table align=\"left\">\n",
        "    <tr>\n",
        "        <th style=\"text-align:left\">Name</th>\n",
        "        <th style=\"text-align:left\" width=\"400\">Functionality</th>\n",
        "      <th style=\"text-align:left\">More info</th>\n",
        "    <tr> \n",
        "        <td style=\"text-align:left\"> <a href=\"http://www.tensorflow.org\">Tensorflow 2.0</a></td>\n",
        "            <td style=\"text-align:left\"> Accelerated numpy-like library with autograd support. Keras API.</td>\n",
        "     <td style=\"text-align:left\"><a href=\"https://colab.research.google.com/github/probml/pyprobml/blob/master/notebooks/intro/tf.ipynb\">TF notebook</a>\n",
        "               <tr>\n",
        "        <td style=\"text-align:left\"> <a href=\"http://github.com/google/jax\">JAX</a></td>\n",
        "        <td style=\"text-align:left\">Accelerated numpy, functional code transformations (autograd, JIT, VMAP, etc)</td>\n",
        "            <td style=\"text-align:left\">\n",
        "              <a href=\"https://colab.research.google.com/github/probml/pyprobml/blob/master/notebooks/intro/jax.ipynb\">JAX notebook</a>\n",
        "    <tr>\n",
        "        <td style=\"text-align:left\"> <a href=\"http://pytorch.org\">Pytorch</a></td>\n",
        "         <td style=\"text-align:left\"> Similar to TF 2.0</td>\n",
        "       <td style=\"text-align:left\">\n",
        "       <a href=\"https://pytorch.org/tutorials/\">Official PyTorch tutorials</a>\n",
        "              <tr>\n",
        "        <td style=\"text-align:left\"> <a href=\"https://mxnet.apache.org/\">MXNet</a>\n",
        "            <td  style=\"text-align:left\"> Similar to TF 2.0. Gluon  API.\n",
        "              <td style=\"text-align:left\">\n",
        "                <a href=\"http://www.d2l.ai/\">  Dive into deep learning book</a>       \n",
        "</table>\n",
        "     \n",
        "\n"
      ]
    },
    {
      "cell_type": "markdown",
      "metadata": {
        "id": "3FnEd55XuEj7",
        "colab_type": "text"
      },
      "source": [
        "## Software for probabilistic modeling <a class=\"anchor\" id=\"PPL\"></a>\n",
        "\n",
        "In this book, we will be focusing on probabilistic models, both supervised (conditional) models of the form $p(y|x)$, as well as unsupervised models of the form $p(z,x)$, where $x$ are the features, $y$ are the labels (if present), and $z$ are the latent variables. GMMs and PCA, which we discuss in the unsupervised learning notebook, are very simple examples of such latent variable models. However, to create more complex models, we need to move beyond scikit-learn. In addition, we will often need more than just gradient-based optimization, in order to handle discrete variables and randomly-shaped data structures.\n",
        "\n",
        "There are a variety of Python libraries for probabilistic modeling, some of which build on top of deep learning libraries, and extend them to handle stochastic functions and probabilistic inference. If the model is specified declaratively, using a domain specific language (DSL) or an application programming interface (API), we will call it a \"probabilistic modeling language\" (PML). If the system uses a lower level interface, and allows the creation of more flexible models (e.g., using stochastic control flow), we will call it a \"probabilistic programming language\" (PPL). We list a few examples below.\n",
        "\n",
        "<table align=\"left\">\n",
        "<tr>\n",
        "<th style=\"text-align:left\">Name</th>\n",
        "<th style=\"text-align:left\" width=\"400\">Functionality</th>\n",
        "    <tr>\n",
        "    <td style=\"text-align:left\"> <a href=\"https://github.com/pyro-ppl/pyro\">Pyro</a>\n",
        "<td  style=\"text-align:left\"> PPL built on top of PyTorch.\n",
        "<tr>\n",
        "    <td style=\"text-align:left\"> <a href=\"https://github.com/pyro-ppl/numpyro\">NumPyro</a>\n",
        "<td style=\"text-align:left\"> Lightweight version of Pyro, using JAX instead of PyTorch as the backend.\n",
        " <tr>\n",
        "     <td style=\"text-align:left\"> <a href=\"https://www.tensorflow.org/probability\">TF Probability</a> (TFP)\n",
        "         <td style=\"text-align:left\"> PPL on top of Tensorflow.\n",
        "<tr>\n",
        "     <td style=\"text-align:left\"> <a href=\"https://pystan.readthedocs.io/en/latest/\">PyStan</a>\n",
        "    <td style=\"text-align:left\"> Python interface to <a href=\"https://mc-stan.org\">Stan</a>, which uses the BUGS DSL for PGMs. Supports MCMC and VI. Custom C++ autodiff library.\n",
        "              <tr>\n",
        "     <td style=\"text-align:left\"> <a href=\"https://docs.pymc.io/\">PyMc</a>\n",
        "         <td style=\"text-align:left\"> Similar functionality to PyStan without the C++ part. v3 uses Theano for autograd. v4 will use TF for autograd.\n",
        " <tr>            \n",
        "     <td style=\"text-align:left\"> <a href=\"http://pgmpy.org/\">Pgmpy</a>\n",
        "         <td style=\"text-align:left\"> Python API for (non-Bayesian) discrete PGMs.  No support for autodiff or GPUs.\n",
        "</table>\n",
        "\n"
      ]
    },
    {
      "cell_type": "markdown",
      "metadata": {
        "id": "QT_dMsMWXafD",
        "colab_type": "text"
      },
      "source": [
        "## Installing software inside Google Colab notebook\n",
        "\n",
        "See [this notebook](https://colab.research.google.com/github/probml/pyprobml/blob/master/notebooks/pyprobml_setup.ipynb). \n"
      ]
    },
    {
      "cell_type": "markdown",
      "metadata": {
        "id": "1q_oRS-jtAkj",
        "colab_type": "text"
      },
      "source": [
        " # Exploratory data analysis <a class=\"anchor\" id=\"EDA\"></a>\n",
        " \n",
        " See [this notebook](https://colab.research.google.com/github/probml/pyprobml/blob/master/notebooks/intro/data.ipynb) "
      ]
    },
    {
      "cell_type": "markdown",
      "metadata": {
        "id": "sbW8XHMmtcL8",
        "colab_type": "text"
      },
      "source": [
        " # Logistic regression <a class=\"anchor\" id=\"logreg\"></a>\n",
        " \n",
        " See [this notebook](https://colab.research.google.com/github/probml/pyprobml/blob/master/notebooks/intro/logreg.ipynb) "
      ]
    },
    {
      "cell_type": "markdown",
      "metadata": {
        "id": "rYTCGTartr_Y",
        "colab_type": "text"
      },
      "source": [
        " # Linear regression <a class=\"anchor\" id=\"linreg\"></a>\n",
        " \n",
        " See [this notebook](https://colab.research.google.com/github/probml/pyprobml/blob/master/notebooks/intro/linreg.ipynb) "
      ]
    },
    {
      "cell_type": "markdown",
      "metadata": {
        "id": "CvjbjLVtu2LG",
        "colab_type": "text"
      },
      "source": [
        " # Deep neural networks <a class=\"anchor\" id=\"DNN\"></a>\n",
        " \n",
        " See [this notebook](https://colab.research.google.com/github/probml/pyprobml/blob/master/notebooks/dnn/dnn.ipynb) "
      ]
    },
    {
      "cell_type": "markdown",
      "metadata": {
        "id": "jYA8nTZc0a_G",
        "colab_type": "text"
      },
      "source": [
        "# Unsupervised learning <a class=\"anchor\" id=\"unsuper\"></a>\n",
        " \n",
        " See [this notebook](https://colab.research.google.com/github/probml/pyprobml/blob/master/notebooks/intro/unsuper.ipynb) "
      ]
    }
  ]
}